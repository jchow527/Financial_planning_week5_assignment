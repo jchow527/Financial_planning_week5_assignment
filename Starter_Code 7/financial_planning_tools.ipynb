{
 "cells": [
  {
   "cell_type": "markdown",
   "metadata": {},
   "source": [
    "# Financial Planning with APIs and Simulations\n",
    "\n",
    "In this Challenge, you’ll create two financial analysis tools by using a single Jupyter notebook:\n",
    "\n",
    "Part 1: A financial planner for emergencies. The members will be able to use this tool to visualize their current savings. The members can then determine if they have enough reserves for an emergency fund.\n",
    "\n",
    "Part 2: A financial planner for retirement. This tool will forecast the performance of their retirement portfolio in 30 years. To do this, the tool will make an Alpaca API call via the Alpaca SDK to get historical price data for use in Monte Carlo simulations.\n",
    "\n",
    "You’ll use the information from the Monte Carlo simulation to answer questions about the portfolio in your Jupyter notebook.\n",
    "\n"
   ]
  },
  {
   "cell_type": "code",
   "execution_count": 60,
   "metadata": {},
   "outputs": [],
   "source": [
    "# Import the required libraries and dependencies\n",
    "import os\n",
    "import requests\n",
    "import json\n",
    "import pandas as pd\n",
    "from dotenv import load_dotenv\n",
    "import alpaca_trade_api as tradeapi\n",
    "from MCForecastTools import MCSimulation\n",
    "\n",
    "%matplotlib inline"
   ]
  },
  {
   "cell_type": "code",
   "execution_count": 61,
   "metadata": {},
   "outputs": [
    {
     "data": {
      "text/plain": [
       "True"
      ]
     },
     "execution_count": 61,
     "metadata": {},
     "output_type": "execute_result"
    }
   ],
   "source": [
    "# Load the environment variables from the .env file\n",
    "#by calling the load_dotenv function\n",
    "load_dotenv()"
   ]
  },
  {
   "cell_type": "markdown",
   "metadata": {},
   "source": [
    "## Part 1: Create a Financial Planner for Emergencies"
   ]
  },
  {
   "cell_type": "markdown",
   "metadata": {},
   "source": [
    "### Evaluate the Cryptocurrency Wallet by Using the Requests Library\n",
    "\n",
    "In this section, you’ll determine the current value of a member’s cryptocurrency wallet. You’ll collect the current prices for the Bitcoin and Ethereum cryptocurrencies by using the Python Requests library. For the prototype, you’ll assume that the member holds the 1.2 Bitcoins (BTC) and 5.3 Ethereum coins (ETH). To do all this, complete the following steps:\n",
    "\n",
    "1. Create a variable named `monthly_income`, and set its value to `12000`.\n",
    "\n",
    "2. Use the Requests library to get the current price (in US dollars) of Bitcoin (BTC) and Ethereum (ETH) by using the API endpoints that the starter code supplies.\n",
    "\n",
    "3. Navigate the JSON response object to access the current price of each coin, and store each in a variable.\n",
    "\n",
    "    > **Hint** Note the specific identifier for each cryptocurrency in the API JSON response. The Bitcoin identifier is `1`, and the Ethereum identifier is `1027`.\n",
    "\n",
    "4. Calculate the value, in US dollars, of the current amount of each cryptocurrency and of the entire cryptocurrency wallet.\n",
    "\n"
   ]
  },
  {
   "cell_type": "code",
   "execution_count": 32,
   "metadata": {},
   "outputs": [],
   "source": [
    "# The current number of coins for each cryptocurrency asset held in the portfolio.\n",
    "btc_coins = 1.2\n",
    "eth_coins = 5.3"
   ]
  },
  {
   "cell_type": "markdown",
   "metadata": {},
   "source": [
    "#### Step 1: Create a variable named `monthly_income`, and set its value to `12000`."
   ]
  },
  {
   "cell_type": "code",
   "execution_count": 33,
   "metadata": {},
   "outputs": [],
   "source": [
    "# The monthly amount for the member's household income\n",
    "# YOUR CODE HERE\n",
    "monthly_income = 12000"
   ]
  },
  {
   "cell_type": "markdown",
   "metadata": {},
   "source": [
    "#### Review the endpoint URLs for the API calls to Free Crypto API in order to get the current pricing information for both BTC and ETH."
   ]
  },
  {
   "cell_type": "code",
   "execution_count": 14,
   "metadata": {},
   "outputs": [],
   "source": [
    "# The Free Crypto API Call endpoint URLs for the held cryptocurrency assets\n",
    "btc_url = \"https://api.alternative.me/v2/ticker/Bitcoin/?convert=USD\"\n",
    "eth_url = \"https://api.alternative.me/v2/ticker/Ethereum/?convert=USD\""
   ]
  },
  {
   "cell_type": "markdown",
   "metadata": {},
   "source": [
    "#### Step 2. Use the Requests library to get the current price (in US dollars) of Bitcoin (BTC) and Ethereum (ETH) by using the API endpoints that the starter code supplied."
   ]
  },
  {
   "cell_type": "code",
   "execution_count": 15,
   "metadata": {},
   "outputs": [
    {
     "name": "stdout",
     "output_type": "stream",
     "text": [
      "{\n",
      "  \"data\": {\n",
      "    \"1\": {\n",
      "      \"circulating_supply\": 19098100,\n",
      "      \"id\": 1,\n",
      "      \"last_updated\": 1658283828,\n",
      "      \"max_supply\": 21000000,\n",
      "      \"name\": \"Bitcoin\",\n",
      "      \"quotes\": {\n",
      "        \"USD\": {\n",
      "          \"market_cap\": 444652646094,\n",
      "          \"percent_change_1h\": 0.833404437810147,\n",
      "          \"percent_change_24h\": 5.47502410992114,\n",
      "          \"percent_change_7d\": 20.3919114453767,\n",
      "          \"percentage_change_1h\": 0.833404437810147,\n",
      "          \"percentage_change_24h\": 5.47502410992114,\n",
      "          \"percentage_change_7d\": 20.3919114453767,\n",
      "          \"price\": 23297.0,\n",
      "          \"volume_24h\": 51122485649\n",
      "        }\n",
      "      },\n",
      "      \"rank\": 1,\n",
      "      \"symbol\": \"BTC\",\n",
      "      \"total_supply\": 19098100,\n",
      "      \"website_slug\": \"bitcoin\"\n",
      "    }\n",
      "  },\n",
      "  \"metadata\": {\n",
      "    \"error\": null,\n",
      "    \"num_cryptocurrencies\": 3116,\n",
      "    \"timestamp\": 1658283828\n",
      "  }\n",
      "}\n"
     ]
    }
   ],
   "source": [
    "# Using the Python requests library, make an API call to access the current price of BTC\n",
    "btc_response = requests.get(btc_url).json()\n",
    "\n",
    "# Use the json.dumps function to review the response data from the API call\n",
    "# Use the indent and sort_keys parameters to make the response object readable\n",
    "# YOUR CODE HERE\n",
    "print(json.dumps(btc_response, indent=2, sort_keys=True))"
   ]
  },
  {
   "cell_type": "code",
   "execution_count": 16,
   "metadata": {},
   "outputs": [
    {
     "name": "stdout",
     "output_type": "stream",
     "text": [
      "{\n",
      "  \"data\": {\n",
      "    \"1027\": {\n",
      "      \"circulating_supply\": 119746830,\n",
      "      \"id\": 1027,\n",
      "      \"last_updated\": 1658283833,\n",
      "      \"max_supply\": 119746689,\n",
      "      \"name\": \"Ethereum\",\n",
      "      \"quotes\": {\n",
      "        \"USD\": {\n",
      "          \"market_cap\": 184468815258,\n",
      "          \"percent_change_1h\": 0.471757829321798,\n",
      "          \"percent_change_24h\": 1.07296216427181,\n",
      "          \"percent_change_7d\": 48.0684443524648,\n",
      "          \"percentage_change_1h\": 0.471757829321798,\n",
      "          \"percentage_change_24h\": 1.07296216427181,\n",
      "          \"percentage_change_7d\": 48.0684443524648,\n",
      "          \"price\": 1541.09,\n",
      "          \"volume_24h\": 23878459579\n",
      "        }\n",
      "      },\n",
      "      \"rank\": 2,\n",
      "      \"symbol\": \"ETH\",\n",
      "      \"total_supply\": 119746830,\n",
      "      \"website_slug\": \"ethereum\"\n",
      "    }\n",
      "  },\n",
      "  \"metadata\": {\n",
      "    \"error\": null,\n",
      "    \"num_cryptocurrencies\": 3116,\n",
      "    \"timestamp\": 1658283833\n",
      "  }\n",
      "}\n"
     ]
    }
   ],
   "source": [
    "# Using the Python requests library, make an API call to access the current price ETH\n",
    "\n",
    "eth_response = requests.get(eth_url).json()\n",
    "\n",
    "# Use the json.dumps function to review the response data from the API call\n",
    "# Use the indent and sort_keys parameters to make the response object readable\n",
    "# YOUR CODE HERE\n",
    "print(json.dumps(eth_response, indent=2, sort_keys=True))"
   ]
  },
  {
   "cell_type": "markdown",
   "metadata": {},
   "source": [
    "#### Step 3: Navigate the JSON response object to access the current price of each coin, and store each in a variable."
   ]
  },
  {
   "cell_type": "code",
   "execution_count": 17,
   "metadata": {},
   "outputs": [
    {
     "data": {
      "text/plain": [
       "23297.0"
      ]
     },
     "execution_count": 17,
     "metadata": {},
     "output_type": "execute_result"
    }
   ],
   "source": [
    "# Navigate the BTC response object to access the current price of BTC\n",
    "btc_price = btc_response[\"data\"][\"1\"][\"quotes\"][\"USD\"][\"price\"]\n",
    "\n",
    "btc_price\n"
   ]
  },
  {
   "cell_type": "code",
   "execution_count": 18,
   "metadata": {},
   "outputs": [
    {
     "data": {
      "text/plain": [
       "1541.09"
      ]
     },
     "execution_count": 18,
     "metadata": {},
     "output_type": "execute_result"
    }
   ],
   "source": [
    "# Navigate the BTC response object to access the current price of ETH\n",
    "eth_price = eth_response[\"data\"][\"1027\"][\"quotes\"][\"USD\"][\"price\"]\n",
    "\n",
    "\n",
    "eth_price\n",
    "# Print the current price of ETH\n",
    "# YOUR CODE HERE\n"
   ]
  },
  {
   "cell_type": "markdown",
   "metadata": {},
   "source": [
    "### Step 4: Calculate the value, in US dollars, of the current amount of each cryptocurrency and of the entire cryptocurrency wallet."
   ]
  },
  {
   "cell_type": "code",
   "execution_count": 22,
   "metadata": {},
   "outputs": [
    {
     "data": {
      "text/plain": [
       "27956.399999999998"
      ]
     },
     "execution_count": 22,
     "metadata": {},
     "output_type": "execute_result"
    }
   ],
   "source": [
    "# Compute the current value of the BTC holding \n",
    "btc_value = btc_price * btc_coins\n",
    "\n",
    "btc_value\n",
    "\n",
    "# Print current value of your holding in BTC\n",
    "# YOUR CODE HERE\n"
   ]
  },
  {
   "cell_type": "code",
   "execution_count": 23,
   "metadata": {},
   "outputs": [
    {
     "data": {
      "text/plain": [
       "8167.776999999999"
      ]
     },
     "execution_count": 23,
     "metadata": {},
     "output_type": "execute_result"
    }
   ],
   "source": [
    "# Compute the current value of the ETH holding \n",
    "eth_value = eth_price * eth_coins\n",
    "\n",
    "eth_value\n",
    "\n",
    "# Print current value of your holding in ETH\n",
    "# YOUR CODE HERE\n"
   ]
  },
  {
   "cell_type": "code",
   "execution_count": 26,
   "metadata": {},
   "outputs": [
    {
     "data": {
      "text/plain": [
       "36124.176999999996"
      ]
     },
     "execution_count": 26,
     "metadata": {},
     "output_type": "execute_result"
    }
   ],
   "source": [
    "# Compute the total value of the cryptocurrency wallet\n",
    "# Add the value of the BTC holding to the value of the ETH holding\n",
    "total_crypto_wallet = btc_value + eth_value\n",
    "\n",
    "total_crypto_wallet\n",
    "# Print current cryptocurrency wallet balance\n",
    "# YOUR CODE HERE\n"
   ]
  },
  {
   "cell_type": "markdown",
   "metadata": {},
   "source": [
    "### Evaluate the Stock and Bond Holdings by Using the Alpaca SDK\n",
    "\n",
    "In this section, you’ll determine the current value of a member’s stock and bond holdings. You’ll make an API call to Alpaca via the Alpaca SDK to get the current closing prices of the SPDR S&P 500 ETF Trust (ticker: SPY) and of the iShares Core US Aggregate Bond ETF (ticker: AGG). For the prototype, assume that the member holds 110 shares of SPY, which represents the stock portion of their portfolio, and 200 shares of AGG, which represents the bond portion. To do all this, complete the following steps:\n",
    "\n",
    "1. In the `Starter_Code` folder, create an environment file (`.env`) to store the values of your Alpaca API key and Alpaca secret key.\n",
    "\n",
    "2. Set the variables for the Alpaca API and secret keys. Using the Alpaca SDK, create the Alpaca `tradeapi.REST` object. In this object, include the parameters for the Alpaca API key, the secret key, and the version number.\n",
    "\n",
    "3. Set the following parameters for the Alpaca API call:\n",
    "\n",
    "    - `tickers`: Use the tickers for the member’s stock and bond holdings.\n",
    "\n",
    "    - `timeframe`: Use a time frame of one day.\n",
    "\n",
    "    - `start_date` and `end_date`: Use the same date for these parameters, and format them with the date of the previous weekday (or `2020-08-07`). This is because you want the one closing price for the most-recent trading day.\n",
    "\n",
    "4. Get the current closing prices for `SPY` and `AGG` by using the Alpaca `get_bars` function. Format the response as a Pandas DataFrame by including the `df` property at the end of the `get_bars` function.\n",
    "\n",
    "5. Navigating the Alpaca response DataFrame, select the `SPY` and `AGG` closing prices, and store them as variables.\n",
    "\n",
    "6. Calculate the value, in US dollars, of the current amount of shares in each of the stock and bond portions of the portfolio, and print the results.\n"
   ]
  },
  {
   "cell_type": "markdown",
   "metadata": {},
   "source": [
    "#### Review the total number of shares held in both (SPY) and (AGG)."
   ]
  },
  {
   "cell_type": "code",
   "execution_count": 43,
   "metadata": {},
   "outputs": [],
   "source": [
    "# Current amount of shares held in both the stock (SPY) and bond (AGG) portion of the portfolio.\n",
    "spy_shares = 110\n",
    "agg_shares = 200\n"
   ]
  },
  {
   "cell_type": "markdown",
   "metadata": {},
   "source": [
    "#### Step 1: In the `Starter_Code` folder, create an environment file (`.env`) to store the values of your Alpaca API key and Alpaca secret key."
   ]
  },
  {
   "cell_type": "markdown",
   "metadata": {},
   "source": [
    "#### Step 2: Set the variables for the Alpaca API and secret keys. Using the Alpaca SDK, create the Alpaca `tradeapi.REST` object. In this object, include the parameters for the Alpaca API key, the secret key, and the version number."
   ]
  },
  {
   "cell_type": "code",
   "execution_count": 34,
   "metadata": {},
   "outputs": [],
   "source": [
    "# Set the variables for the Alpaca API and secret keys\n",
    "# YOUR CODE HERE\n",
    "# YOUR CODE HERE\n",
    "\n",
    "# Create the Alpaca tradeapi.REST object\n",
    "# YOUR CODE HERE\n",
    "\n",
    "alpaca_api_key = os.getenv(\"ALPACA_API_KEY\")\n",
    "alpaca_secret_key = os.getenv(\"ALPACA_SECRET_KEY\")\n",
    "\n",
    "# Create the Alpaca API object\n",
    "alpaca = tradeapi.REST(\n",
    "    alpaca_api_key,\n",
    "    alpaca_secret_key,\n",
    "    api_version=\"v2\"\n",
    ")\n"
   ]
  },
  {
   "cell_type": "code",
   "execution_count": 28,
   "metadata": {},
   "outputs": [
    {
     "data": {
      "text/plain": [
       "'/Users/jchow/Desktop/fintech_workspace/week_five/Starter_Code 7'"
      ]
     },
     "execution_count": 28,
     "metadata": {},
     "output_type": "execute_result"
    }
   ],
   "source": [
    "pwd\n"
   ]
  },
  {
   "cell_type": "markdown",
   "metadata": {},
   "source": [
    "#### Step 3: Set the following parameters for the Alpaca API call:\n",
    "\n",
    "- `tickers`: Use the tickers for the member’s stock and bond holdings.\n",
    "\n",
    "- `timeframe`: Use a time frame of one day.\n",
    "\n",
    "- `start_date` and `end_date`: Use the same date for these parameters, and format them with the date of the previous weekday (or `2020-08-07`). This is because you want the one closing price for the most-recent trading day.\n"
   ]
  },
  {
   "cell_type": "code",
   "execution_count": 37,
   "metadata": {},
   "outputs": [],
   "source": [
    "# Set the tickers for both the bond and stock portion of the portfolio\n",
    "# YOUR CODE HERE\n",
    "\n",
    "# Set timeframe to 1Day\n",
    "# YOUR CODE HERE\n",
    "\n",
    "# Format current date as ISO format\n",
    "# Set both the start and end date at the date of your prior weekday \n",
    "# This will give you the closing price of the previous trading day\n",
    "# Alternatively you can use a start and end date of 2020-08-07\n",
    "# YOUR CODE HERE\n",
    "# YOUR CODE HERE\n",
    "\n",
    "# Set the tickers for both the bond and stock portion of the portfolio\n",
    "tickers = [\"AGG\", \"SPY\"]\n",
    "\n",
    "# Set timeframe to 1Day \n",
    "timeframe = \"1Day\"\n",
    "\n",
    "# Format current date as ISO format\n",
    "# Set both the start and end date at the date of your prior weekday \n",
    "# This will give you the closing price of the previous trading day\n",
    "# Alternatively you can use a start and end date of 2020-08-07\n",
    "start_date = pd.Timestamp(\"2020-08-07\", tz=\"America/New_York\").isoformat()\n",
    "end_date = pd.Timestamp(\"2020-08-07\", tz=\"America/New_York\").isoformat()\n"
   ]
  },
  {
   "cell_type": "markdown",
   "metadata": {},
   "source": [
    "#### Step 4: Get the current closing prices for `SPY` and `AGG` by using the Alpaca `get_bars` function. Format the response as a Pandas DataFrame by including the `df` property at the end of the `get_bars` function."
   ]
  },
  {
   "cell_type": "code",
   "execution_count": 38,
   "metadata": {},
   "outputs": [
    {
     "data": {
      "text/html": [
       "<div>\n",
       "<style scoped>\n",
       "    .dataframe tbody tr th:only-of-type {\n",
       "        vertical-align: middle;\n",
       "    }\n",
       "\n",
       "    .dataframe tbody tr th {\n",
       "        vertical-align: top;\n",
       "    }\n",
       "\n",
       "    .dataframe thead tr th {\n",
       "        text-align: left;\n",
       "    }\n",
       "\n",
       "    .dataframe thead tr:last-of-type th {\n",
       "        text-align: right;\n",
       "    }\n",
       "</style>\n",
       "<table border=\"1\" class=\"dataframe\">\n",
       "  <thead>\n",
       "    <tr>\n",
       "      <th></th>\n",
       "      <th colspan=\"7\" halign=\"left\">AGG</th>\n",
       "      <th colspan=\"7\" halign=\"left\">SPY</th>\n",
       "    </tr>\n",
       "    <tr>\n",
       "      <th></th>\n",
       "      <th>open</th>\n",
       "      <th>high</th>\n",
       "      <th>low</th>\n",
       "      <th>close</th>\n",
       "      <th>volume</th>\n",
       "      <th>trade_count</th>\n",
       "      <th>vwap</th>\n",
       "      <th>open</th>\n",
       "      <th>high</th>\n",
       "      <th>low</th>\n",
       "      <th>close</th>\n",
       "      <th>volume</th>\n",
       "      <th>trade_count</th>\n",
       "      <th>vwap</th>\n",
       "    </tr>\n",
       "    <tr>\n",
       "      <th>timestamp</th>\n",
       "      <th></th>\n",
       "      <th></th>\n",
       "      <th></th>\n",
       "      <th></th>\n",
       "      <th></th>\n",
       "      <th></th>\n",
       "      <th></th>\n",
       "      <th></th>\n",
       "      <th></th>\n",
       "      <th></th>\n",
       "      <th></th>\n",
       "      <th></th>\n",
       "      <th></th>\n",
       "      <th></th>\n",
       "    </tr>\n",
       "  </thead>\n",
       "  <tbody>\n",
       "    <tr>\n",
       "      <th>2020-08-07 04:00:00+00:00</th>\n",
       "      <td>119.66</td>\n",
       "      <td>119.73</td>\n",
       "      <td>119.395</td>\n",
       "      <td>119.43</td>\n",
       "      <td>5559066</td>\n",
       "      <td>15246</td>\n",
       "      <td>119.475306</td>\n",
       "      <td>333.29</td>\n",
       "      <td>334.88</td>\n",
       "      <td>332.3</td>\n",
       "      <td>334.57</td>\n",
       "      <td>57282821</td>\n",
       "      <td>350100</td>\n",
       "      <td>333.800372</td>\n",
       "    </tr>\n",
       "  </tbody>\n",
       "</table>\n",
       "</div>"
      ],
      "text/plain": [
       "                              AGG                                    \\\n",
       "                             open    high      low   close   volume   \n",
       "timestamp                                                             \n",
       "2020-08-07 04:00:00+00:00  119.66  119.73  119.395  119.43  5559066   \n",
       "\n",
       "                                                      SPY                 \\\n",
       "                          trade_count        vwap    open    high    low   \n",
       "timestamp                                                                  \n",
       "2020-08-07 04:00:00+00:00       15246  119.475306  333.29  334.88  332.3   \n",
       "\n",
       "                                                                     \n",
       "                            close    volume trade_count        vwap  \n",
       "timestamp                                                            \n",
       "2020-08-07 04:00:00+00:00  334.57  57282821      350100  333.800372  "
      ]
     },
     "execution_count": 38,
     "metadata": {},
     "output_type": "execute_result"
    }
   ],
   "source": [
    "# Use the Alpaca get_bars function to get current closing prices the portfolio\n",
    "# Be sure to set the `df` property after the function to format the response object as a DataFrame\n",
    "# YOUR CODE HERE\n",
    "\n",
    "\n",
    "portfolio_prices_df = alpaca.get_bars(\n",
    "    tickers,\n",
    "    timeframe,\n",
    "    start = start_date,\n",
    "    end = end_date\n",
    ").df\n",
    "\n",
    "# Reorganize the DataFrame\n",
    "# # Separate ticker data\n",
    "AGG = portfolio_prices_df[portfolio_prices_df['symbol']=='AGG'].drop('symbol', axis=1)\n",
    "SPY = portfolio_prices_df[portfolio_prices_df['symbol']=='SPY'].drop('symbol', axis=1)\n",
    "\n",
    "# # Concatenate the ticker DataFrames\n",
    "portfolio_prices_df = pd.concat([AGG, SPY], axis=1, keys=[\"AGG\", \"SPY\"])\n",
    "\n",
    "# Review the first 5 rows of the Alpaca DataFrame\n",
    "portfolio_prices_df.head()"
   ]
  },
  {
   "cell_type": "markdown",
   "metadata": {},
   "source": [
    "#### Step 5: Navigating the Alpaca response DataFrame, select the `SPY` and `AGG` closing prices, and store them as variables."
   ]
  },
  {
   "cell_type": "code",
   "execution_count": 39,
   "metadata": {},
   "outputs": [
    {
     "name": "stdout",
     "output_type": "stream",
     "text": [
      "Current AGG closing price: $119.43\n"
     ]
    }
   ],
   "source": [
    "# Access the closing price for AGG from the Alpaca DataFrame\n",
    "# Converting the value to a floating point number\n",
    "agg_close_price = float(portfolio_prices_df[\"AGG\"][\"close\"][0])\n",
    "\n",
    "# Print the AGG closing price\n",
    "# YOUR CODE HERE\n",
    "# YOUR CODE HERE\n",
    "print(f\"Current AGG closing price: ${agg_close_price}\")"
   ]
  },
  {
   "cell_type": "code",
   "execution_count": 40,
   "metadata": {},
   "outputs": [
    {
     "name": "stdout",
     "output_type": "stream",
     "text": [
      "Current AGG closing price: $334.57\n"
     ]
    }
   ],
   "source": [
    "# Access the closing price for SPY from the Alpaca DataFrame\n",
    "# Converting the value to a floating point number\n",
    "spy_close_price = float(portfolio_prices_df[\"SPY\"][\"close\"][0])\n",
    "\n",
    "\n",
    "# Print the SPY closing price\n",
    "# YOUR CODE HERE\n",
    "print(f\"Current AGG closing price: ${spy_close_price}\")"
   ]
  },
  {
   "cell_type": "markdown",
   "metadata": {},
   "source": [
    "#### Step 6: Calculate the value, in US dollars, of the current amount of shares in each of the stock and bond portions of the portfolio, and print the results."
   ]
  },
  {
   "cell_type": "code",
   "execution_count": 45,
   "metadata": {},
   "outputs": [
    {
     "data": {
      "text/plain": [
       "23886.0"
      ]
     },
     "execution_count": 45,
     "metadata": {},
     "output_type": "execute_result"
    }
   ],
   "source": [
    "# Calculate the current value of the bond portion of the portfolio\n",
    "agg_value = agg_close_price * agg_shares\n",
    "\n",
    "# Print the current value of the bond portfolio\n",
    "# YOUR CODE HERE\n",
    "agg_value"
   ]
  },
  {
   "cell_type": "code",
   "execution_count": 47,
   "metadata": {},
   "outputs": [
    {
     "data": {
      "text/plain": [
       "36802.7"
      ]
     },
     "execution_count": 47,
     "metadata": {},
     "output_type": "execute_result"
    }
   ],
   "source": [
    "# Calculate the current value of the stock portion of the portfolio\n",
    "spy_value = spy_close_price * spy_shares\n",
    "\n",
    "# Print the current value of the stock portfolio\n",
    "# YOUR CODE HERE\n",
    "spy_value"
   ]
  },
  {
   "cell_type": "code",
   "execution_count": 48,
   "metadata": {},
   "outputs": [
    {
     "data": {
      "text/plain": [
       "60688.7"
      ]
     },
     "execution_count": 48,
     "metadata": {},
     "output_type": "execute_result"
    }
   ],
   "source": [
    "# Calculate the total value of the stock and bond portion of the portfolio\n",
    "total_stocks_bonds = agg_value + spy_value\n",
    "\n",
    "# Print the current balance of the stock and bond portion of the portfolio\n",
    "# YOUR CODE HERE\n",
    "total_stocks_bonds"
   ]
  },
  {
   "cell_type": "code",
   "execution_count": 51,
   "metadata": {},
   "outputs": [
    {
     "name": "stdout",
     "output_type": "stream",
     "text": [
      "The total value of the current savings portfolio is $ 96812.88\n"
     ]
    }
   ],
   "source": [
    "# Calculate the total value of the member's entire savings portfolio\n",
    "# Add the value of the cryptocurrency walled to the value of the total stocks and bonds\n",
    "total_portfolio = total_stocks_bonds + total_crypto_wallet\n",
    "\n",
    "# Print current cryptocurrency wallet balance\n",
    "# YOUR CODE HERE\n",
    "print(f\"The total value of the current savings portfolio is ${total_portfolio: 0.2f}\")\n"
   ]
  },
  {
   "cell_type": "markdown",
   "metadata": {},
   "source": [
    "### Evaluate the Emergency Fund\n",
    "\n",
    "In this section, you’ll use the valuations for the cryptocurrency wallet and for the stock and bond portions of the portfolio to determine if the credit union member has enough savings to build an emergency fund into their financial plan. To do this, complete the following steps:\n",
    "\n",
    "1. Create a Python list named `savings_data` that has two elements. The first element contains the total value of the cryptocurrency wallet. The second element contains the total value of the stock and bond portions of the portfolio.\n",
    "\n",
    "2. Use the `savings_data` list to create a Pandas DataFrame named `savings_df`, and then display this DataFrame. The function to create the DataFrame should take the following three parameters:\n",
    "\n",
    "    - `savings_data`: Use the list that you just created.\n",
    "\n",
    "    - `columns`: Set this parameter equal to a Python list with a single value called `amount`.\n",
    "\n",
    "    - `index`: Set this parameter equal to a Python list with the values of `crypto` and `stock/bond`.\n",
    "\n",
    "3. Use the `savings_df` DataFrame to plot a pie chart that visualizes the composition of the member’s portfolio. The y-axis of the pie chart uses `amount`. Be sure to add a title.\n",
    "\n",
    "4. Using Python, determine if the current portfolio has enough to create an emergency fund as part of the member’s financial plan. Ideally, an emergency fund should equal to three times the member’s monthly income. To do this, implement the following steps:\n",
    "\n",
    "    1. Create a variable named `emergency_fund_value`, and set it equal to three times the value of the member’s `monthly_income` of $12000. (You set this earlier in Part 1).\n",
    "\n",
    "    2. Create a series of three if statements to determine if the member’s total portfolio is large enough to fund the emergency portfolio:\n",
    "\n",
    "        1. If the total portfolio value is greater than the emergency fund value, display a message congratulating the member for having enough money in this fund.\n",
    "\n",
    "        2. Else if the total portfolio value is equal to the emergency fund value, display a message congratulating the member on reaching this important financial goal.\n",
    "\n",
    "        3. Else the total portfolio is less than the emergency fund value, so display a message showing how many dollars away the member is from reaching the goal. (Subtract the total portfolio value from the emergency fund value.)\n"
   ]
  },
  {
   "cell_type": "markdown",
   "metadata": {},
   "source": [
    "#### Step 1: Create a Python list named `savings_data` that has two elements. The first element contains the total value of the cryptocurrency wallet. The second element contains the total value of the stock and bond portions of the portfolio."
   ]
  },
  {
   "cell_type": "code",
   "execution_count": 52,
   "metadata": {},
   "outputs": [
    {
     "data": {
      "text/plain": [
       "[36124.176999999996, 60688.7]"
      ]
     },
     "execution_count": 52,
     "metadata": {},
     "output_type": "execute_result"
    }
   ],
   "source": [
    "# Consolidate financial assets data into a Python list\n",
    "savings_data = [\n",
    "    total_crypto_wallet,\n",
    "    total_stocks_bonds,\n",
    "]\n",
    "\n",
    "# Review the Python list savings_data\n",
    "savings_data\n",
    "    "
   ]
  },
  {
   "cell_type": "markdown",
   "metadata": {},
   "source": [
    "#### Step 2: Use the `savings_data` list to create a Pandas DataFrame named `savings_df`, and then display this DataFrame. The function to create the DataFrame should take the following three parameters:\n",
    "\n",
    "- `savings_data`: Use the list that you just created.\n",
    "\n",
    "- `columns`: Set this parameter equal to a Python list with a single value called `amount`.\n",
    "\n",
    "- `index`: Set this parameter equal to a Python list with the values of `crypto` and `stock/bond`.\n"
   ]
  },
  {
   "cell_type": "code",
   "execution_count": 53,
   "metadata": {},
   "outputs": [
    {
     "data": {
      "text/html": [
       "<div>\n",
       "<style scoped>\n",
       "    .dataframe tbody tr th:only-of-type {\n",
       "        vertical-align: middle;\n",
       "    }\n",
       "\n",
       "    .dataframe tbody tr th {\n",
       "        vertical-align: top;\n",
       "    }\n",
       "\n",
       "    .dataframe thead th {\n",
       "        text-align: right;\n",
       "    }\n",
       "</style>\n",
       "<table border=\"1\" class=\"dataframe\">\n",
       "  <thead>\n",
       "    <tr style=\"text-align: right;\">\n",
       "      <th></th>\n",
       "      <th>amount</th>\n",
       "    </tr>\n",
       "  </thead>\n",
       "  <tbody>\n",
       "    <tr>\n",
       "      <th>crypto</th>\n",
       "      <td>36124.177</td>\n",
       "    </tr>\n",
       "    <tr>\n",
       "      <th>stock/bond</th>\n",
       "      <td>60688.700</td>\n",
       "    </tr>\n",
       "  </tbody>\n",
       "</table>\n",
       "</div>"
      ],
      "text/plain": [
       "               amount\n",
       "crypto      36124.177\n",
       "stock/bond  60688.700"
      ]
     },
     "metadata": {},
     "output_type": "display_data"
    }
   ],
   "source": [
    "# Create a Pandas DataFrame called savings_df \n",
    "savings_df = pd.DataFrame(\n",
    "    savings_data, \n",
    "    columns=[\"amount\"], \n",
    "    index=[\"crypto\", \"stock/bond\"]\n",
    ")\n",
    "\n",
    "# Display the savings_df DataFrame\n",
    "display(savings_df)"
   ]
  },
  {
   "cell_type": "markdown",
   "metadata": {},
   "source": [
    "#### Step 3: Use the `savings_df` DataFrame to plot a pie chart that visualizes the composition of the member’s portfolio. The y-axis of the pie chart uses `amount`. Be sure to add a title."
   ]
  },
  {
   "cell_type": "code",
   "execution_count": 54,
   "metadata": {},
   "outputs": [
    {
     "data": {
      "text/plain": [
       "<AxesSubplot:title={'center':'Total of Personal Savings'}, ylabel='amount'>"
      ]
     },
     "execution_count": 54,
     "metadata": {},
     "output_type": "execute_result"
    },
    {
     "data": {
      "image/png": "[encoded data removed]",
      "text/plain": [
       "<Figure size 432x288 with 1 Axes>"
      ]
     },
     "metadata": {},
     "output_type": "display_data"
    }
   ],
   "source": [
    "# Plot the total value of the member's portfolio (crypto and stock/bond) in a pie chart\n",
    "# Plot the total value of the member's portfolio (crypto and stock/bond) in a pie chart\n",
    "savings_df.plot.pie(y=\"amount\", title=\"Total of Personal Savings\")\n"
   ]
  },
  {
   "cell_type": "markdown",
   "metadata": {},
   "source": [
    "#### Step 4: Using Python, determine if the current portfolio has enough to create an emergency fund as part of the member’s financial plan. Ideally, an emergency fund should equal to three times the member’s monthly income. To do this, implement the following steps:\n",
    "\n",
    "Step 1. Create a variable named `emergency_fund_value`, and set it equal to three times the value of the member’s `monthly_income` of 12000. (You set this earlier in Part 1).\n",
    "\n",
    "Step 2. Create a series of three if statements to determine if the member’s total portfolio is large enough to fund the emergency portfolio:\n",
    "\n",
    "* If the total portfolio value is greater than the emergency fund value, display a message congratulating the member for having enough money in this fund.\n",
    "\n",
    "* Else if the total portfolio value is equal to the emergency fund value, display a message congratulating the member on reaching this important financial goal.\n",
    "\n",
    "* Else the total portfolio is less than the emergency fund value, so display a message showing how many dollars away the member is from reaching the goal. (Subtract the total portfolio value from the emergency fund value.)\n"
   ]
  },
  {
   "cell_type": "markdown",
   "metadata": {},
   "source": [
    "##### Step 4-1: Create a variable named `emergency_fund_value`, and set it equal to three times the value of the member’s `monthly_income` of 12000. (You set this earlier in Part 1)."
   ]
  },
  {
   "cell_type": "code",
   "execution_count": 55,
   "metadata": {},
   "outputs": [],
   "source": [
    "# Create a variable named emergency_fund_value\n",
    "# YOUR CODE HERE\n",
    "emergency_fund_value = monthly_income * 3\n"
   ]
  },
  {
   "cell_type": "markdown",
   "metadata": {},
   "source": [
    "##### Step 4-2: Create a series of three if statements to determine if the member’s total portfolio is large enough to fund the emergency portfolio:\n",
    "\n",
    "* If the total portfolio value is greater than the emergency fund value, display a message congratulating the member for having enough money in this fund.\n",
    "\n",
    "* Else if the total portfolio value is equal to the emergency fund value, display a message congratulating the member on reaching this important financial goal.\n",
    "\n",
    "* Else the total portfolio is less than the emergency fund value, so display a message showing how many dollars away the member is from reaching the goal. (Subtract the total portfolio value from the emergency fund value.)"
   ]
  },
  {
   "cell_type": "code",
   "execution_count": 56,
   "metadata": {},
   "outputs": [
    {
     "name": "stdout",
     "output_type": "stream",
     "text": [
      "Congratulations! You have enough money in your emergency fund.\n"
     ]
    }
   ],
   "source": [
    "# Evaluate the possibility of creating an emergency fund with 3 conditions:\n",
    "if total_portfolio > emergency_fund_value:\n",
    "    print(\"Congratulations! You have enough money in your emergency fund.\")\n",
    "elif total_savings == emergency_fund_value:\n",
    "    print(\"Great, You have saved three times your monthly expenses! Keep reaching toward this important financial goal.\")\n",
    "else:\n",
    "    print(f\"You are ${(emergency_fund_value - total_savings):0.2f} away from your emergency fund goal,\")"
   ]
  },
  {
   "cell_type": "markdown",
   "metadata": {},
   "source": [
    "## Part 2: Create a Financial Planner for Retirement"
   ]
  },
  {
   "cell_type": "markdown",
   "metadata": {},
   "source": [
    "### Create the Monte Carlo Simulation\n",
    "\n",
    "In this section, you’ll use the MCForecastTools library to create a Monte Carlo simulation for the member’s savings portfolio. To do this, complete the following steps:\n",
    "\n",
    "1. Make an API call via the Alpaca SDK to get 3 years of historical closing prices for a traditional 60/40 portfolio split: 60% stocks (SPY) and 40% bonds (AGG).\n",
    "\n",
    "2. Run a Monte Carlo simulation of 500 samples and 30 years for the 60/40 portfolio, and then plot the results.The following image shows the overlay line plot resulting from a simulation with these characteristics. However, because a random number generator is used to run each live Monte Carlo simulation, your image will differ slightly from this exact image:\n",
    "\n",
    "![A screenshot depicts the resulting plot.](Images/5-4-monte-carlo-line-plot.png)\n",
    "\n",
    "3. Plot the probability distribution of the Monte Carlo simulation. Plot the probability distribution of the Monte Carlo simulation. The following image shows the histogram plot resulting from a simulation with these characteristics. However, because a random number generator is used to run each live Monte Carlo simulation, your image will differ slightly from this exact image:\n",
    "\n",
    "![A screenshot depicts the histogram plot.](Images/5-4-monte-carlo-histogram.png)\n",
    "\n",
    "4. Generate the summary statistics for the Monte Carlo simulation.\n",
    "\n"
   ]
  },
  {
   "cell_type": "markdown",
   "metadata": {},
   "source": [
    "#### Step 1: Make an API call via the Alpaca SDK to get 3 years of historical closing prices for a traditional 60/40 portfolio split: 60% stocks (SPY) and 40% bonds (AGG)."
   ]
  },
  {
   "cell_type": "code",
   "execution_count": 57,
   "metadata": {},
   "outputs": [],
   "source": [
    "# Set start and end dates of 3 years back from your current date\n",
    "# Alternatively, you can use an end date of 2020-08-07 and work 3 years back from that date \n",
    "start_date = pd.Timestamp('2019-07-01', tz='America/New_York').isoformat()\n",
    "end_date = pd.Timestamp('2022-07-01', tz='America/New_York').isoformat()"
   ]
  },
  {
   "cell_type": "code",
   "execution_count": 58,
   "metadata": {},
   "outputs": [
    {
     "data": {
      "text/html": [
       "<div>\n",
       "<style scoped>\n",
       "    .dataframe tbody tr th:only-of-type {\n",
       "        vertical-align: middle;\n",
       "    }\n",
       "\n",
       "    .dataframe tbody tr th {\n",
       "        vertical-align: top;\n",
       "    }\n",
       "\n",
       "    .dataframe thead tr th {\n",
       "        text-align: left;\n",
       "    }\n",
       "\n",
       "    .dataframe thead tr:last-of-type th {\n",
       "        text-align: right;\n",
       "    }\n",
       "</style>\n",
       "<table border=\"1\" class=\"dataframe\">\n",
       "  <thead>\n",
       "    <tr>\n",
       "      <th></th>\n",
       "      <th colspan=\"7\" halign=\"left\">AGG</th>\n",
       "      <th colspan=\"7\" halign=\"left\">SPY</th>\n",
       "    </tr>\n",
       "    <tr>\n",
       "      <th></th>\n",
       "      <th>open</th>\n",
       "      <th>high</th>\n",
       "      <th>low</th>\n",
       "      <th>close</th>\n",
       "      <th>volume</th>\n",
       "      <th>trade_count</th>\n",
       "      <th>vwap</th>\n",
       "      <th>open</th>\n",
       "      <th>high</th>\n",
       "      <th>low</th>\n",
       "      <th>close</th>\n",
       "      <th>volume</th>\n",
       "      <th>trade_count</th>\n",
       "      <th>vwap</th>\n",
       "    </tr>\n",
       "    <tr>\n",
       "      <th>timestamp</th>\n",
       "      <th></th>\n",
       "      <th></th>\n",
       "      <th></th>\n",
       "      <th></th>\n",
       "      <th></th>\n",
       "      <th></th>\n",
       "      <th></th>\n",
       "      <th></th>\n",
       "      <th></th>\n",
       "      <th></th>\n",
       "      <th></th>\n",
       "      <th></th>\n",
       "      <th></th>\n",
       "      <th></th>\n",
       "    </tr>\n",
       "  </thead>\n",
       "  <tbody>\n",
       "    <tr>\n",
       "      <th>2019-07-01 04:00:00+00:00</th>\n",
       "      <td>111.25</td>\n",
       "      <td>111.2700</td>\n",
       "      <td>111.010</td>\n",
       "      <td>111.18</td>\n",
       "      <td>4211486</td>\n",
       "      <td>17456</td>\n",
       "      <td>111.152261</td>\n",
       "      <td>296.68</td>\n",
       "      <td>296.9200</td>\n",
       "      <td>294.33</td>\n",
       "      <td>295.66</td>\n",
       "      <td>79264778</td>\n",
       "      <td>313785</td>\n",
       "      <td>295.550961</td>\n",
       "    </tr>\n",
       "    <tr>\n",
       "      <th>2019-07-02 04:00:00+00:00</th>\n",
       "      <td>111.20</td>\n",
       "      <td>111.4062</td>\n",
       "      <td>111.140</td>\n",
       "      <td>111.38</td>\n",
       "      <td>5765493</td>\n",
       "      <td>14622</td>\n",
       "      <td>111.294019</td>\n",
       "      <td>295.59</td>\n",
       "      <td>296.4900</td>\n",
       "      <td>291.21</td>\n",
       "      <td>296.43</td>\n",
       "      <td>62924305</td>\n",
       "      <td>243679</td>\n",
       "      <td>295.690540</td>\n",
       "    </tr>\n",
       "    <tr>\n",
       "      <th>2019-07-03 04:00:00+00:00</th>\n",
       "      <td>111.44</td>\n",
       "      <td>111.6000</td>\n",
       "      <td>111.430</td>\n",
       "      <td>111.56</td>\n",
       "      <td>1324832</td>\n",
       "      <td>6547</td>\n",
       "      <td>111.546814</td>\n",
       "      <td>297.19</td>\n",
       "      <td>298.8200</td>\n",
       "      <td>297.02</td>\n",
       "      <td>298.80</td>\n",
       "      <td>40929346</td>\n",
       "      <td>162068</td>\n",
       "      <td>298.172623</td>\n",
       "    </tr>\n",
       "    <tr>\n",
       "      <th>2019-07-05 04:00:00+00:00</th>\n",
       "      <td>111.21</td>\n",
       "      <td>111.2100</td>\n",
       "      <td>110.905</td>\n",
       "      <td>111.09</td>\n",
       "      <td>2461249</td>\n",
       "      <td>10168</td>\n",
       "      <td>111.056293</td>\n",
       "      <td>297.46</td>\n",
       "      <td>298.6400</td>\n",
       "      <td>296.01</td>\n",
       "      <td>298.46</td>\n",
       "      <td>51977326</td>\n",
       "      <td>229688</td>\n",
       "      <td>297.602081</td>\n",
       "    </tr>\n",
       "    <tr>\n",
       "      <th>2019-07-08 04:00:00+00:00</th>\n",
       "      <td>111.23</td>\n",
       "      <td>111.2600</td>\n",
       "      <td>111.030</td>\n",
       "      <td>111.03</td>\n",
       "      <td>3041397</td>\n",
       "      <td>14684</td>\n",
       "      <td>111.126862</td>\n",
       "      <td>297.01</td>\n",
       "      <td>298.2579</td>\n",
       "      <td>296.22</td>\n",
       "      <td>296.82</td>\n",
       "      <td>45961732</td>\n",
       "      <td>190736</td>\n",
       "      <td>296.885773</td>\n",
       "    </tr>\n",
       "  </tbody>\n",
       "</table>\n",
       "</div>"
      ],
      "text/plain": [
       "                              AGG                                      \\\n",
       "                             open      high      low   close   volume   \n",
       "timestamp                                                               \n",
       "2019-07-01 04:00:00+00:00  111.25  111.2700  111.010  111.18  4211486   \n",
       "2019-07-02 04:00:00+00:00  111.20  111.4062  111.140  111.38  5765493   \n",
       "2019-07-03 04:00:00+00:00  111.44  111.6000  111.430  111.56  1324832   \n",
       "2019-07-05 04:00:00+00:00  111.21  111.2100  110.905  111.09  2461249   \n",
       "2019-07-08 04:00:00+00:00  111.23  111.2600  111.030  111.03  3041397   \n",
       "\n",
       "                                                      SPY                    \\\n",
       "                          trade_count        vwap    open      high     low   \n",
       "timestamp                                                                     \n",
       "2019-07-01 04:00:00+00:00       17456  111.152261  296.68  296.9200  294.33   \n",
       "2019-07-02 04:00:00+00:00       14622  111.294019  295.59  296.4900  291.21   \n",
       "2019-07-03 04:00:00+00:00        6547  111.546814  297.19  298.8200  297.02   \n",
       "2019-07-05 04:00:00+00:00       10168  111.056293  297.46  298.6400  296.01   \n",
       "2019-07-08 04:00:00+00:00       14684  111.126862  297.01  298.2579  296.22   \n",
       "\n",
       "                                                                     \n",
       "                            close    volume trade_count        vwap  \n",
       "timestamp                                                            \n",
       "2019-07-01 04:00:00+00:00  295.66  79264778      313785  295.550961  \n",
       "2019-07-02 04:00:00+00:00  296.43  62924305      243679  295.690540  \n",
       "2019-07-03 04:00:00+00:00  298.80  40929346      162068  298.172623  \n",
       "2019-07-05 04:00:00+00:00  298.46  51977326      229688  297.602081  \n",
       "2019-07-08 04:00:00+00:00  296.82  45961732      190736  296.885773  "
      ]
     },
     "metadata": {},
     "output_type": "display_data"
    },
    {
     "data": {
      "text/html": [
       "<div>\n",
       "<style scoped>\n",
       "    .dataframe tbody tr th:only-of-type {\n",
       "        vertical-align: middle;\n",
       "    }\n",
       "\n",
       "    .dataframe tbody tr th {\n",
       "        vertical-align: top;\n",
       "    }\n",
       "\n",
       "    .dataframe thead tr th {\n",
       "        text-align: left;\n",
       "    }\n",
       "\n",
       "    .dataframe thead tr:last-of-type th {\n",
       "        text-align: right;\n",
       "    }\n",
       "</style>\n",
       "<table border=\"1\" class=\"dataframe\">\n",
       "  <thead>\n",
       "    <tr>\n",
       "      <th></th>\n",
       "      <th colspan=\"7\" halign=\"left\">AGG</th>\n",
       "      <th colspan=\"7\" halign=\"left\">SPY</th>\n",
       "    </tr>\n",
       "    <tr>\n",
       "      <th></th>\n",
       "      <th>open</th>\n",
       "      <th>high</th>\n",
       "      <th>low</th>\n",
       "      <th>close</th>\n",
       "      <th>volume</th>\n",
       "      <th>trade_count</th>\n",
       "      <th>vwap</th>\n",
       "      <th>open</th>\n",
       "      <th>high</th>\n",
       "      <th>low</th>\n",
       "      <th>close</th>\n",
       "      <th>volume</th>\n",
       "      <th>trade_count</th>\n",
       "      <th>vwap</th>\n",
       "    </tr>\n",
       "    <tr>\n",
       "      <th>timestamp</th>\n",
       "      <th></th>\n",
       "      <th></th>\n",
       "      <th></th>\n",
       "      <th></th>\n",
       "      <th></th>\n",
       "      <th></th>\n",
       "      <th></th>\n",
       "      <th></th>\n",
       "      <th></th>\n",
       "      <th></th>\n",
       "      <th></th>\n",
       "      <th></th>\n",
       "      <th></th>\n",
       "      <th></th>\n",
       "    </tr>\n",
       "  </thead>\n",
       "  <tbody>\n",
       "    <tr>\n",
       "      <th>2022-06-27 04:00:00+00:00</th>\n",
       "      <td>100.68</td>\n",
       "      <td>100.9450</td>\n",
       "      <td>100.475</td>\n",
       "      <td>100.60</td>\n",
       "      <td>8262512</td>\n",
       "      <td>33194</td>\n",
       "      <td>100.694460</td>\n",
       "      <td>391.12</td>\n",
       "      <td>391.3600</td>\n",
       "      <td>387.44</td>\n",
       "      <td>388.59</td>\n",
       "      <td>65967268</td>\n",
       "      <td>552197</td>\n",
       "      <td>389.085434</td>\n",
       "    </tr>\n",
       "    <tr>\n",
       "      <th>2022-06-28 04:00:00+00:00</th>\n",
       "      <td>100.53</td>\n",
       "      <td>100.6600</td>\n",
       "      <td>100.395</td>\n",
       "      <td>100.64</td>\n",
       "      <td>6410634</td>\n",
       "      <td>26098</td>\n",
       "      <td>100.579369</td>\n",
       "      <td>390.30</td>\n",
       "      <td>393.1600</td>\n",
       "      <td>380.53</td>\n",
       "      <td>380.65</td>\n",
       "      <td>86376255</td>\n",
       "      <td>641197</td>\n",
       "      <td>384.912075</td>\n",
       "    </tr>\n",
       "    <tr>\n",
       "      <th>2022-06-29 04:00:00+00:00</th>\n",
       "      <td>100.80</td>\n",
       "      <td>101.2350</td>\n",
       "      <td>100.680</td>\n",
       "      <td>101.22</td>\n",
       "      <td>7322871</td>\n",
       "      <td>21262</td>\n",
       "      <td>101.097062</td>\n",
       "      <td>381.16</td>\n",
       "      <td>382.2700</td>\n",
       "      <td>378.42</td>\n",
       "      <td>380.34</td>\n",
       "      <td>64478427</td>\n",
       "      <td>519970</td>\n",
       "      <td>380.393953</td>\n",
       "    </tr>\n",
       "    <tr>\n",
       "      <th>2022-06-30 04:00:00+00:00</th>\n",
       "      <td>101.60</td>\n",
       "      <td>101.9550</td>\n",
       "      <td>101.575</td>\n",
       "      <td>101.68</td>\n",
       "      <td>7520901</td>\n",
       "      <td>22372</td>\n",
       "      <td>101.771839</td>\n",
       "      <td>376.27</td>\n",
       "      <td>380.6582</td>\n",
       "      <td>372.56</td>\n",
       "      <td>377.25</td>\n",
       "      <td>112269284</td>\n",
       "      <td>799487</td>\n",
       "      <td>377.083807</td>\n",
       "    </tr>\n",
       "    <tr>\n",
       "      <th>2022-07-01 04:00:00+00:00</th>\n",
       "      <td>102.21</td>\n",
       "      <td>102.7874</td>\n",
       "      <td>102.090</td>\n",
       "      <td>102.34</td>\n",
       "      <td>7274799</td>\n",
       "      <td>26198</td>\n",
       "      <td>102.348326</td>\n",
       "      <td>376.60</td>\n",
       "      <td>381.7000</td>\n",
       "      <td>373.80</td>\n",
       "      <td>381.24</td>\n",
       "      <td>74165514</td>\n",
       "      <td>601221</td>\n",
       "      <td>378.221516</td>\n",
       "    </tr>\n",
       "  </tbody>\n",
       "</table>\n",
       "</div>"
      ],
      "text/plain": [
       "                              AGG                                      \\\n",
       "                             open      high      low   close   volume   \n",
       "timestamp                                                               \n",
       "2022-06-27 04:00:00+00:00  100.68  100.9450  100.475  100.60  8262512   \n",
       "2022-06-28 04:00:00+00:00  100.53  100.6600  100.395  100.64  6410634   \n",
       "2022-06-29 04:00:00+00:00  100.80  101.2350  100.680  101.22  7322871   \n",
       "2022-06-30 04:00:00+00:00  101.60  101.9550  101.575  101.68  7520901   \n",
       "2022-07-01 04:00:00+00:00  102.21  102.7874  102.090  102.34  7274799   \n",
       "\n",
       "                                                      SPY                    \\\n",
       "                          trade_count        vwap    open      high     low   \n",
       "timestamp                                                                     \n",
       "2022-06-27 04:00:00+00:00       33194  100.694460  391.12  391.3600  387.44   \n",
       "2022-06-28 04:00:00+00:00       26098  100.579369  390.30  393.1600  380.53   \n",
       "2022-06-29 04:00:00+00:00       21262  101.097062  381.16  382.2700  378.42   \n",
       "2022-06-30 04:00:00+00:00       22372  101.771839  376.27  380.6582  372.56   \n",
       "2022-07-01 04:00:00+00:00       26198  102.348326  376.60  381.7000  373.80   \n",
       "\n",
       "                                                                      \n",
       "                            close     volume trade_count        vwap  \n",
       "timestamp                                                             \n",
       "2022-06-27 04:00:00+00:00  388.59   65967268      552197  389.085434  \n",
       "2022-06-28 04:00:00+00:00  380.65   86376255      641197  384.912075  \n",
       "2022-06-29 04:00:00+00:00  380.34   64478427      519970  380.393953  \n",
       "2022-06-30 04:00:00+00:00  377.25  112269284      799487  377.083807  \n",
       "2022-07-01 04:00:00+00:00  381.24   74165514      601221  378.221516  "
      ]
     },
     "metadata": {},
     "output_type": "display_data"
    }
   ],
   "source": [
    "# Use the Alpaca get_bars function to make the API call to get the 3 years worth of pricing data\n",
    "# The tickers and timeframe parameters should have been set in Part 1 of this activity \n",
    "# The start and end dates should be updated with the information set above\n",
    "# Remember to add the df property to the end of the call so the response is returned as a DataFrame\n",
    "# YOUR CODE HERE\n",
    "portfolio_prices_ten_df = alpaca.get_bars(\n",
    "    tickers,\n",
    "    timeframe,\n",
    "    start=start_date,\n",
    "    end=end_date,\n",
    ").df\n",
    "\n",
    "# Reorganize the DataFrame\n",
    "# Separate ticker data\n",
    "AGG = portfolio_prices_ten_df[portfolio_prices_ten_df['symbol']=='AGG'].drop('symbol', axis=1)\n",
    "SPY = portfolio_prices_ten_df[portfolio_prices_ten_df['symbol']=='SPY'].drop('symbol', axis=1)\n",
    "\n",
    "# Concatenate the ticker DataFrames\n",
    "portfolio_prices_ten_df = pd.concat([AGG, SPY], axis=1, keys=[\"AGG\", \"SPY\"])\n",
    "\n",
    "# Display both the first and last five rows of the DataFrame\n",
    "display(portfolio_prices_ten_df.head())\n",
    "display(portfolio_prices_ten_df.tail())\n"
   ]
  },
  {
   "cell_type": "markdown",
   "metadata": {},
   "source": [
    "#### Step 2: Run a Monte Carlo simulation of 500 samples and 30 years for the 60/40 portfolio, and then plot the results."
   ]
  },
  {
   "cell_type": "code",
   "execution_count": 65,
   "metadata": {},
   "outputs": [
    {
     "data": {
      "text/html": [
       "<div>\n",
       "<style scoped>\n",
       "    .dataframe tbody tr th:only-of-type {\n",
       "        vertical-align: middle;\n",
       "    }\n",
       "\n",
       "    .dataframe tbody tr th {\n",
       "        vertical-align: top;\n",
       "    }\n",
       "\n",
       "    .dataframe thead tr th {\n",
       "        text-align: left;\n",
       "    }\n",
       "\n",
       "    .dataframe thead tr:last-of-type th {\n",
       "        text-align: right;\n",
       "    }\n",
       "</style>\n",
       "<table border=\"1\" class=\"dataframe\">\n",
       "  <thead>\n",
       "    <tr>\n",
       "      <th></th>\n",
       "      <th colspan=\"8\" halign=\"left\">AGG</th>\n",
       "      <th colspan=\"8\" halign=\"left\">SPY</th>\n",
       "    </tr>\n",
       "    <tr>\n",
       "      <th></th>\n",
       "      <th>open</th>\n",
       "      <th>high</th>\n",
       "      <th>low</th>\n",
       "      <th>close</th>\n",
       "      <th>volume</th>\n",
       "      <th>trade_count</th>\n",
       "      <th>vwap</th>\n",
       "      <th>daily_return</th>\n",
       "      <th>open</th>\n",
       "      <th>high</th>\n",
       "      <th>low</th>\n",
       "      <th>close</th>\n",
       "      <th>volume</th>\n",
       "      <th>trade_count</th>\n",
       "      <th>vwap</th>\n",
       "      <th>daily_return</th>\n",
       "    </tr>\n",
       "    <tr>\n",
       "      <th>timestamp</th>\n",
       "      <th></th>\n",
       "      <th></th>\n",
       "      <th></th>\n",
       "      <th></th>\n",
       "      <th></th>\n",
       "      <th></th>\n",
       "      <th></th>\n",
       "      <th></th>\n",
       "      <th></th>\n",
       "      <th></th>\n",
       "      <th></th>\n",
       "      <th></th>\n",
       "      <th></th>\n",
       "      <th></th>\n",
       "      <th></th>\n",
       "      <th></th>\n",
       "    </tr>\n",
       "  </thead>\n",
       "  <tbody>\n",
       "    <tr>\n",
       "      <th>2019-07-01 04:00:00+00:00</th>\n",
       "      <td>111.25</td>\n",
       "      <td>111.2700</td>\n",
       "      <td>111.010</td>\n",
       "      <td>111.18</td>\n",
       "      <td>4211486</td>\n",
       "      <td>17456</td>\n",
       "      <td>111.152261</td>\n",
       "      <td>NaN</td>\n",
       "      <td>296.68</td>\n",
       "      <td>296.9200</td>\n",
       "      <td>294.33</td>\n",
       "      <td>295.66</td>\n",
       "      <td>79264778</td>\n",
       "      <td>313785</td>\n",
       "      <td>295.550961</td>\n",
       "      <td>NaN</td>\n",
       "    </tr>\n",
       "    <tr>\n",
       "      <th>2019-07-02 04:00:00+00:00</th>\n",
       "      <td>111.20</td>\n",
       "      <td>111.4062</td>\n",
       "      <td>111.140</td>\n",
       "      <td>111.38</td>\n",
       "      <td>5765493</td>\n",
       "      <td>14622</td>\n",
       "      <td>111.294019</td>\n",
       "      <td>0.001799</td>\n",
       "      <td>295.59</td>\n",
       "      <td>296.4900</td>\n",
       "      <td>291.21</td>\n",
       "      <td>296.43</td>\n",
       "      <td>62924305</td>\n",
       "      <td>243679</td>\n",
       "      <td>295.690540</td>\n",
       "      <td>0.002604</td>\n",
       "    </tr>\n",
       "    <tr>\n",
       "      <th>2019-07-03 04:00:00+00:00</th>\n",
       "      <td>111.44</td>\n",
       "      <td>111.6000</td>\n",
       "      <td>111.430</td>\n",
       "      <td>111.56</td>\n",
       "      <td>1324832</td>\n",
       "      <td>6547</td>\n",
       "      <td>111.546814</td>\n",
       "      <td>0.001616</td>\n",
       "      <td>297.19</td>\n",
       "      <td>298.8200</td>\n",
       "      <td>297.02</td>\n",
       "      <td>298.80</td>\n",
       "      <td>40929346</td>\n",
       "      <td>162068</td>\n",
       "      <td>298.172623</td>\n",
       "      <td>0.007995</td>\n",
       "    </tr>\n",
       "    <tr>\n",
       "      <th>2019-07-05 04:00:00+00:00</th>\n",
       "      <td>111.21</td>\n",
       "      <td>111.2100</td>\n",
       "      <td>110.905</td>\n",
       "      <td>111.09</td>\n",
       "      <td>2461249</td>\n",
       "      <td>10168</td>\n",
       "      <td>111.056293</td>\n",
       "      <td>-0.004213</td>\n",
       "      <td>297.46</td>\n",
       "      <td>298.6400</td>\n",
       "      <td>296.01</td>\n",
       "      <td>298.46</td>\n",
       "      <td>51977326</td>\n",
       "      <td>229688</td>\n",
       "      <td>297.602081</td>\n",
       "      <td>-0.001138</td>\n",
       "    </tr>\n",
       "    <tr>\n",
       "      <th>2019-07-08 04:00:00+00:00</th>\n",
       "      <td>111.23</td>\n",
       "      <td>111.2600</td>\n",
       "      <td>111.030</td>\n",
       "      <td>111.03</td>\n",
       "      <td>3041397</td>\n",
       "      <td>14684</td>\n",
       "      <td>111.126862</td>\n",
       "      <td>-0.000540</td>\n",
       "      <td>297.01</td>\n",
       "      <td>298.2579</td>\n",
       "      <td>296.22</td>\n",
       "      <td>296.82</td>\n",
       "      <td>45961732</td>\n",
       "      <td>190736</td>\n",
       "      <td>296.885773</td>\n",
       "      <td>-0.005495</td>\n",
       "    </tr>\n",
       "  </tbody>\n",
       "</table>\n",
       "</div>"
      ],
      "text/plain": [
       "                              AGG                                      \\\n",
       "                             open      high      low   close   volume   \n",
       "timestamp                                                               \n",
       "2019-07-01 04:00:00+00:00  111.25  111.2700  111.010  111.18  4211486   \n",
       "2019-07-02 04:00:00+00:00  111.20  111.4062  111.140  111.38  5765493   \n",
       "2019-07-03 04:00:00+00:00  111.44  111.6000  111.430  111.56  1324832   \n",
       "2019-07-05 04:00:00+00:00  111.21  111.2100  110.905  111.09  2461249   \n",
       "2019-07-08 04:00:00+00:00  111.23  111.2600  111.030  111.03  3041397   \n",
       "\n",
       "                                                                   SPY  \\\n",
       "                          trade_count        vwap daily_return    open   \n",
       "timestamp                                                                \n",
       "2019-07-01 04:00:00+00:00       17456  111.152261          NaN  296.68   \n",
       "2019-07-02 04:00:00+00:00       14622  111.294019     0.001799  295.59   \n",
       "2019-07-03 04:00:00+00:00        6547  111.546814     0.001616  297.19   \n",
       "2019-07-05 04:00:00+00:00       10168  111.056293    -0.004213  297.46   \n",
       "2019-07-08 04:00:00+00:00       14684  111.126862    -0.000540  297.01   \n",
       "\n",
       "                                                                           \\\n",
       "                               high     low   close    volume trade_count   \n",
       "timestamp                                                                   \n",
       "2019-07-01 04:00:00+00:00  296.9200  294.33  295.66  79264778      313785   \n",
       "2019-07-02 04:00:00+00:00  296.4900  291.21  296.43  62924305      243679   \n",
       "2019-07-03 04:00:00+00:00  298.8200  297.02  298.80  40929346      162068   \n",
       "2019-07-05 04:00:00+00:00  298.6400  296.01  298.46  51977326      229688   \n",
       "2019-07-08 04:00:00+00:00  298.2579  296.22  296.82  45961732      190736   \n",
       "\n",
       "                                                    \n",
       "                                 vwap daily_return  \n",
       "timestamp                                           \n",
       "2019-07-01 04:00:00+00:00  295.550961          NaN  \n",
       "2019-07-02 04:00:00+00:00  295.690540     0.002604  \n",
       "2019-07-03 04:00:00+00:00  298.172623     0.007995  \n",
       "2019-07-05 04:00:00+00:00  297.602081    -0.001138  \n",
       "2019-07-08 04:00:00+00:00  296.885773    -0.005495  "
      ]
     },
     "execution_count": 65,
     "metadata": {},
     "output_type": "execute_result"
    }
   ],
   "source": [
    "# Configure the Monte Carlo simulation to forecast 30 years cumulative returns\n",
    "# The weights should be split 40% to AGG and 60% to SPY.\n",
    "# Run 500 samples.\n",
    "MC_thirty_year = MCSimulation(\n",
    "    portfolio_data = portfolio_prices_ten_df,\n",
    "    weights = [.40,.60],\n",
    "    num_simulation = 500,\n",
    "    num_trading_days = 252 * 30\n",
    ")\n",
    "\n",
    "# Review the simulation input data\n",
    "MC_thirty_year.portfolio_data.head()\n"
   ]
  },
  {
   "cell_type": "code",
   "execution_count": 66,
   "metadata": {},
   "outputs": [
    {
     "name": "stdout",
     "output_type": "stream",
     "text": [
      "Running Monte Carlo simulation number 0.\n",
      "Running Monte Carlo simulation number 10.\n",
      "Running Monte Carlo simulation number 20.\n",
      "Running Monte Carlo simulation number 30.\n",
      "Running Monte Carlo simulation number 40.\n",
      "Running Monte Carlo simulation number 50.\n",
      "Running Monte Carlo simulation number 60.\n",
      "Running Monte Carlo simulation number 70.\n",
      "Running Monte Carlo simulation number 80.\n",
      "Running Monte Carlo simulation number 90.\n",
      "Running Monte Carlo simulation number 100.\n"
     ]
    },
    {
     "name": "stderr",
     "output_type": "stream",
     "text": [
      "/Users/jchow/Desktop/fintech_workspace/week_five/Starter_Code 7/MCForecastTools.py:117: PerformanceWarning: DataFrame is highly fragmented.  This is usually the result of calling `frame.insert` many times, which has poor performance.  Consider joining all columns at once using pd.concat(axis=1) instead.  To get a de-fragmented frame, use `newframe = frame.copy()`\n",
      "  portfolio_cumulative_returns[n] = (1 + sim_df.fillna(0)).cumprod()\n"
     ]
    },
    {
     "name": "stdout",
     "output_type": "stream",
     "text": [
      "Running Monte Carlo simulation number 110.\n",
      "Running Monte Carlo simulation number 120.\n",
      "Running Monte Carlo simulation number 130.\n",
      "Running Monte Carlo simulation number 140.\n",
      "Running Monte Carlo simulation number 150.\n",
      "Running Monte Carlo simulation number 160.\n",
      "Running Monte Carlo simulation number 170.\n",
      "Running Monte Carlo simulation number 180.\n",
      "Running Monte Carlo simulation number 190.\n",
      "Running Monte Carlo simulation number 200.\n",
      "Running Monte Carlo simulation number 210.\n",
      "Running Monte Carlo simulation number 220.\n",
      "Running Monte Carlo simulation number 230.\n",
      "Running Monte Carlo simulation number 240.\n",
      "Running Monte Carlo simulation number 250.\n",
      "Running Monte Carlo simulation number 260.\n",
      "Running Monte Carlo simulation number 270.\n",
      "Running Monte Carlo simulation number 280.\n",
      "Running Monte Carlo simulation number 290.\n",
      "Running Monte Carlo simulation number 300.\n",
      "Running Monte Carlo simulation number 310.\n",
      "Running Monte Carlo simulation number 320.\n",
      "Running Monte Carlo simulation number 330.\n",
      "Running Monte Carlo simulation number 340.\n",
      "Running Monte Carlo simulation number 350.\n",
      "Running Monte Carlo simulation number 360.\n",
      "Running Monte Carlo simulation number 370.\n",
      "Running Monte Carlo simulation number 380.\n",
      "Running Monte Carlo simulation number 390.\n",
      "Running Monte Carlo simulation number 400.\n",
      "Running Monte Carlo simulation number 410.\n",
      "Running Monte Carlo simulation number 420.\n",
      "Running Monte Carlo simulation number 430.\n",
      "Running Monte Carlo simulation number 440.\n",
      "Running Monte Carlo simulation number 450.\n",
      "Running Monte Carlo simulation number 460.\n",
      "Running Monte Carlo simulation number 470.\n",
      "Running Monte Carlo simulation number 480.\n",
      "Running Monte Carlo simulation number 490.\n"
     ]
    },
    {
     "data": {
      "text/html": [
       "<div>\n",
       "<style scoped>\n",
       "    .dataframe tbody tr th:only-of-type {\n",
       "        vertical-align: middle;\n",
       "    }\n",
       "\n",
       "    .dataframe tbody tr th {\n",
       "        vertical-align: top;\n",
       "    }\n",
       "\n",
       "    .dataframe thead th {\n",
       "        text-align: right;\n",
       "    }\n",
       "</style>\n",
       "<table border=\"1\" class=\"dataframe\">\n",
       "  <thead>\n",
       "    <tr style=\"text-align: right;\">\n",
       "      <th></th>\n",
       "      <th>0</th>\n",
       "      <th>1</th>\n",
       "      <th>2</th>\n",
       "      <th>3</th>\n",
       "      <th>4</th>\n",
       "      <th>5</th>\n",
       "      <th>6</th>\n",
       "      <th>7</th>\n",
       "      <th>8</th>\n",
       "      <th>9</th>\n",
       "      <th>...</th>\n",
       "      <th>490</th>\n",
       "      <th>491</th>\n",
       "      <th>492</th>\n",
       "      <th>493</th>\n",
       "      <th>494</th>\n",
       "      <th>495</th>\n",
       "      <th>496</th>\n",
       "      <th>497</th>\n",
       "      <th>498</th>\n",
       "      <th>499</th>\n",
       "    </tr>\n",
       "  </thead>\n",
       "  <tbody>\n",
       "    <tr>\n",
       "      <th>0</th>\n",
       "      <td>1.000000</td>\n",
       "      <td>1.000000</td>\n",
       "      <td>1.000000</td>\n",
       "      <td>1.000000</td>\n",
       "      <td>1.000000</td>\n",
       "      <td>1.000000</td>\n",
       "      <td>1.000000</td>\n",
       "      <td>1.000000</td>\n",
       "      <td>1.000000</td>\n",
       "      <td>1.000000</td>\n",
       "      <td>...</td>\n",
       "      <td>1.000000</td>\n",
       "      <td>1.000000</td>\n",
       "      <td>1.000000</td>\n",
       "      <td>1.000000</td>\n",
       "      <td>1.000000</td>\n",
       "      <td>1.000000</td>\n",
       "      <td>1.000000</td>\n",
       "      <td>1.000000</td>\n",
       "      <td>1.000000</td>\n",
       "      <td>1.000000</td>\n",
       "    </tr>\n",
       "    <tr>\n",
       "      <th>1</th>\n",
       "      <td>0.992115</td>\n",
       "      <td>0.994993</td>\n",
       "      <td>1.005823</td>\n",
       "      <td>1.001988</td>\n",
       "      <td>1.010065</td>\n",
       "      <td>0.993996</td>\n",
       "      <td>0.999220</td>\n",
       "      <td>0.974906</td>\n",
       "      <td>1.001941</td>\n",
       "      <td>1.004457</td>\n",
       "      <td>...</td>\n",
       "      <td>0.996360</td>\n",
       "      <td>0.998356</td>\n",
       "      <td>1.009718</td>\n",
       "      <td>0.991423</td>\n",
       "      <td>1.005028</td>\n",
       "      <td>0.990870</td>\n",
       "      <td>0.992231</td>\n",
       "      <td>0.999862</td>\n",
       "      <td>0.998393</td>\n",
       "      <td>1.009757</td>\n",
       "    </tr>\n",
       "    <tr>\n",
       "      <th>2</th>\n",
       "      <td>0.995525</td>\n",
       "      <td>0.990928</td>\n",
       "      <td>1.003990</td>\n",
       "      <td>0.992517</td>\n",
       "      <td>1.006850</td>\n",
       "      <td>0.999451</td>\n",
       "      <td>0.992905</td>\n",
       "      <td>0.958445</td>\n",
       "      <td>1.007672</td>\n",
       "      <td>1.003198</td>\n",
       "      <td>...</td>\n",
       "      <td>1.000638</td>\n",
       "      <td>0.998832</td>\n",
       "      <td>1.002486</td>\n",
       "      <td>0.994983</td>\n",
       "      <td>1.005160</td>\n",
       "      <td>0.989892</td>\n",
       "      <td>0.989634</td>\n",
       "      <td>1.009926</td>\n",
       "      <td>0.991767</td>\n",
       "      <td>1.035178</td>\n",
       "    </tr>\n",
       "    <tr>\n",
       "      <th>3</th>\n",
       "      <td>0.991907</td>\n",
       "      <td>1.005187</td>\n",
       "      <td>1.009121</td>\n",
       "      <td>1.009304</td>\n",
       "      <td>1.011221</td>\n",
       "      <td>1.009204</td>\n",
       "      <td>0.991664</td>\n",
       "      <td>0.939660</td>\n",
       "      <td>1.022921</td>\n",
       "      <td>1.012287</td>\n",
       "      <td>...</td>\n",
       "      <td>1.004642</td>\n",
       "      <td>0.998227</td>\n",
       "      <td>0.996073</td>\n",
       "      <td>0.992837</td>\n",
       "      <td>1.007678</td>\n",
       "      <td>0.999555</td>\n",
       "      <td>0.984636</td>\n",
       "      <td>1.015511</td>\n",
       "      <td>1.001110</td>\n",
       "      <td>1.027057</td>\n",
       "    </tr>\n",
       "    <tr>\n",
       "      <th>4</th>\n",
       "      <td>0.998419</td>\n",
       "      <td>1.001223</td>\n",
       "      <td>1.010597</td>\n",
       "      <td>1.014887</td>\n",
       "      <td>1.037677</td>\n",
       "      <td>1.005201</td>\n",
       "      <td>0.997648</td>\n",
       "      <td>0.928862</td>\n",
       "      <td>1.009106</td>\n",
       "      <td>1.001379</td>\n",
       "      <td>...</td>\n",
       "      <td>0.999094</td>\n",
       "      <td>1.006392</td>\n",
       "      <td>0.986769</td>\n",
       "      <td>0.993930</td>\n",
       "      <td>1.020191</td>\n",
       "      <td>1.001009</td>\n",
       "      <td>0.989114</td>\n",
       "      <td>1.030705</td>\n",
       "      <td>0.996497</td>\n",
       "      <td>1.028896</td>\n",
       "    </tr>\n",
       "    <tr>\n",
       "      <th>...</th>\n",
       "      <td>...</td>\n",
       "      <td>...</td>\n",
       "      <td>...</td>\n",
       "      <td>...</td>\n",
       "      <td>...</td>\n",
       "      <td>...</td>\n",
       "      <td>...</td>\n",
       "      <td>...</td>\n",
       "      <td>...</td>\n",
       "      <td>...</td>\n",
       "      <td>...</td>\n",
       "      <td>...</td>\n",
       "      <td>...</td>\n",
       "      <td>...</td>\n",
       "      <td>...</td>\n",
       "      <td>...</td>\n",
       "      <td>...</td>\n",
       "      <td>...</td>\n",
       "      <td>...</td>\n",
       "      <td>...</td>\n",
       "      <td>...</td>\n",
       "    </tr>\n",
       "    <tr>\n",
       "      <th>7556</th>\n",
       "      <td>6.855493</td>\n",
       "      <td>2.036722</td>\n",
       "      <td>11.814317</td>\n",
       "      <td>8.793354</td>\n",
       "      <td>4.394283</td>\n",
       "      <td>0.628328</td>\n",
       "      <td>8.092076</td>\n",
       "      <td>5.086734</td>\n",
       "      <td>16.032729</td>\n",
       "      <td>3.785224</td>\n",
       "      <td>...</td>\n",
       "      <td>4.559538</td>\n",
       "      <td>1.131141</td>\n",
       "      <td>6.096632</td>\n",
       "      <td>4.317172</td>\n",
       "      <td>10.057880</td>\n",
       "      <td>3.934502</td>\n",
       "      <td>2.269292</td>\n",
       "      <td>0.700587</td>\n",
       "      <td>6.644079</td>\n",
       "      <td>7.617744</td>\n",
       "    </tr>\n",
       "    <tr>\n",
       "      <th>7557</th>\n",
       "      <td>6.880621</td>\n",
       "      <td>2.057633</td>\n",
       "      <td>11.756432</td>\n",
       "      <td>8.813406</td>\n",
       "      <td>4.450252</td>\n",
       "      <td>0.638710</td>\n",
       "      <td>8.174669</td>\n",
       "      <td>5.031610</td>\n",
       "      <td>16.229791</td>\n",
       "      <td>3.744398</td>\n",
       "      <td>...</td>\n",
       "      <td>4.574967</td>\n",
       "      <td>1.128659</td>\n",
       "      <td>6.097778</td>\n",
       "      <td>4.304616</td>\n",
       "      <td>10.054311</td>\n",
       "      <td>3.963925</td>\n",
       "      <td>2.239659</td>\n",
       "      <td>0.703321</td>\n",
       "      <td>6.557531</td>\n",
       "      <td>7.638853</td>\n",
       "    </tr>\n",
       "    <tr>\n",
       "      <th>7558</th>\n",
       "      <td>6.757094</td>\n",
       "      <td>2.034371</td>\n",
       "      <td>11.740748</td>\n",
       "      <td>8.745481</td>\n",
       "      <td>4.504900</td>\n",
       "      <td>0.641354</td>\n",
       "      <td>8.138448</td>\n",
       "      <td>4.999887</td>\n",
       "      <td>16.316226</td>\n",
       "      <td>3.765946</td>\n",
       "      <td>...</td>\n",
       "      <td>4.502896</td>\n",
       "      <td>1.131116</td>\n",
       "      <td>6.108482</td>\n",
       "      <td>4.276765</td>\n",
       "      <td>9.953300</td>\n",
       "      <td>3.927031</td>\n",
       "      <td>2.220561</td>\n",
       "      <td>0.692045</td>\n",
       "      <td>6.552481</td>\n",
       "      <td>7.819038</td>\n",
       "    </tr>\n",
       "    <tr>\n",
       "      <th>7559</th>\n",
       "      <td>6.751779</td>\n",
       "      <td>2.037598</td>\n",
       "      <td>11.787937</td>\n",
       "      <td>8.760086</td>\n",
       "      <td>4.465965</td>\n",
       "      <td>0.636814</td>\n",
       "      <td>8.223583</td>\n",
       "      <td>5.064843</td>\n",
       "      <td>16.328685</td>\n",
       "      <td>3.802316</td>\n",
       "      <td>...</td>\n",
       "      <td>4.512714</td>\n",
       "      <td>1.137009</td>\n",
       "      <td>6.139214</td>\n",
       "      <td>4.309312</td>\n",
       "      <td>10.069686</td>\n",
       "      <td>3.932488</td>\n",
       "      <td>2.233950</td>\n",
       "      <td>0.682943</td>\n",
       "      <td>6.487966</td>\n",
       "      <td>7.870612</td>\n",
       "    </tr>\n",
       "    <tr>\n",
       "      <th>7560</th>\n",
       "      <td>6.744389</td>\n",
       "      <td>2.034126</td>\n",
       "      <td>11.884607</td>\n",
       "      <td>8.827759</td>\n",
       "      <td>4.482944</td>\n",
       "      <td>0.629020</td>\n",
       "      <td>8.182927</td>\n",
       "      <td>5.079251</td>\n",
       "      <td>16.359344</td>\n",
       "      <td>3.756951</td>\n",
       "      <td>...</td>\n",
       "      <td>4.446290</td>\n",
       "      <td>1.145180</td>\n",
       "      <td>6.194877</td>\n",
       "      <td>4.254216</td>\n",
       "      <td>10.169194</td>\n",
       "      <td>3.994390</td>\n",
       "      <td>2.278894</td>\n",
       "      <td>0.684032</td>\n",
       "      <td>6.471138</td>\n",
       "      <td>7.930087</td>\n",
       "    </tr>\n",
       "  </tbody>\n",
       "</table>\n",
       "<p>7561 rows × 500 columns</p>\n",
       "</div>"
      ],
      "text/plain": [
       "           0         1          2         3         4         5         6    \\\n",
       "0     1.000000  1.000000   1.000000  1.000000  1.000000  1.000000  1.000000   \n",
       "1     0.992115  0.994993   1.005823  1.001988  1.010065  0.993996  0.999220   \n",
       "2     0.995525  0.990928   1.003990  0.992517  1.006850  0.999451  0.992905   \n",
       "3     0.991907  1.005187   1.009121  1.009304  1.011221  1.009204  0.991664   \n",
       "4     0.998419  1.001223   1.010597  1.014887  1.037677  1.005201  0.997648   \n",
       "...        ...       ...        ...       ...       ...       ...       ...   \n",
       "7556  6.855493  2.036722  11.814317  8.793354  4.394283  0.628328  8.092076   \n",
       "7557  6.880621  2.057633  11.756432  8.813406  4.450252  0.638710  8.174669   \n",
       "7558  6.757094  2.034371  11.740748  8.745481  4.504900  0.641354  8.138448   \n",
       "7559  6.751779  2.037598  11.787937  8.760086  4.465965  0.636814  8.223583   \n",
       "7560  6.744389  2.034126  11.884607  8.827759  4.482944  0.629020  8.182927   \n",
       "\n",
       "           7          8         9    ...       490       491       492  \\\n",
       "0     1.000000   1.000000  1.000000  ...  1.000000  1.000000  1.000000   \n",
       "1     0.974906   1.001941  1.004457  ...  0.996360  0.998356  1.009718   \n",
       "2     0.958445   1.007672  1.003198  ...  1.000638  0.998832  1.002486   \n",
       "3     0.939660   1.022921  1.012287  ...  1.004642  0.998227  0.996073   \n",
       "4     0.928862   1.009106  1.001379  ...  0.999094  1.006392  0.986769   \n",
       "...        ...        ...       ...  ...       ...       ...       ...   \n",
       "7556  5.086734  16.032729  3.785224  ...  4.559538  1.131141  6.096632   \n",
       "7557  5.031610  16.229791  3.744398  ...  4.574967  1.128659  6.097778   \n",
       "7558  4.999887  16.316226  3.765946  ...  4.502896  1.131116  6.108482   \n",
       "7559  5.064843  16.328685  3.802316  ...  4.512714  1.137009  6.139214   \n",
       "7560  5.079251  16.359344  3.756951  ...  4.446290  1.145180  6.194877   \n",
       "\n",
       "           493        494       495       496       497       498       499  \n",
       "0     1.000000   1.000000  1.000000  1.000000  1.000000  1.000000  1.000000  \n",
       "1     0.991423   1.005028  0.990870  0.992231  0.999862  0.998393  1.009757  \n",
       "2     0.994983   1.005160  0.989892  0.989634  1.009926  0.991767  1.035178  \n",
       "3     0.992837   1.007678  0.999555  0.984636  1.015511  1.001110  1.027057  \n",
       "4     0.993930   1.020191  1.001009  0.989114  1.030705  0.996497  1.028896  \n",
       "...        ...        ...       ...       ...       ...       ...       ...  \n",
       "7556  4.317172  10.057880  3.934502  2.269292  0.700587  6.644079  7.617744  \n",
       "7557  4.304616  10.054311  3.963925  2.239659  0.703321  6.557531  7.638853  \n",
       "7558  4.276765   9.953300  3.927031  2.220561  0.692045  6.552481  7.819038  \n",
       "7559  4.309312  10.069686  3.932488  2.233950  0.682943  6.487966  7.870612  \n",
       "7560  4.254216  10.169194  3.994390  2.278894  0.684032  6.471138  7.930087  \n",
       "\n",
       "[7561 rows x 500 columns]"
      ]
     },
     "execution_count": 66,
     "metadata": {},
     "output_type": "execute_result"
    }
   ],
   "source": [
    "# Run the Monte Carlo simulation to forecast 30 years cumulative returns\n",
    "MC_thirty_year.calc_cumulative_return()\n"
   ]
  },
  {
   "cell_type": "code",
   "execution_count": 69,
   "metadata": {},
   "outputs": [
    {
     "data": {
      "text/plain": [
       "<AxesSubplot:title={'center':'500 Simulations of Cumulative Portfolio Return Trajectories Over the Next 7560 Trading Days.'}>"
      ]
     },
     "execution_count": 69,
     "metadata": {},
     "output_type": "execute_result"
    },
    {
     "data": {
      "image/png": "[encoded data removed]",
      "text/plain": [
       "<Figure size 432x288 with 1 Axes>"
      ]
     },
     "metadata": {
      "needs_background": "light"
     },
     "output_type": "display_data"
    }
   ],
   "source": [
    "# Visualize the 30-year Monte Carlo simulation by creating an\n",
    "# overlay line plot\n",
    "# YOUR CODE HERE\n",
    "MC_thirty_year.plot_simulation()"
   ]
  },
  {
   "cell_type": "markdown",
   "metadata": {},
   "source": [
    "#### Step 3: Plot the probability distribution of the Monte Carlo simulation."
   ]
  },
  {
   "cell_type": "code",
   "execution_count": 70,
   "metadata": {},
   "outputs": [
    {
     "data": {
      "text/plain": [
       "<AxesSubplot:title={'center':'Distribution of Final Cumuluative Returns Across All 500 Simulations'}, ylabel='Frequency'>"
      ]
     },
     "execution_count": 70,
     "metadata": {},
     "output_type": "execute_result"
    },
    {
     "data": {
      "image/png": "[encoded data removed]",
      "text/plain": [
       "<Figure size 432x288 with 1 Axes>"
      ]
     },
     "metadata": {
      "needs_background": "light"
     },
     "output_type": "display_data"
    }
   ],
   "source": [
    "# Visualize the probability distribution of the 30-year Monte Carlo simulation \n",
    "# by plotting a histogram\n",
    "# YOUR CODE HERE\n",
    "MC_thirty_year.plot_distribution()\n"
   ]
  },
  {
   "cell_type": "markdown",
   "metadata": {},
   "source": [
    "#### Step 4: Generate the summary statistics for the Monte Carlo simulation."
   ]
  },
  {
   "cell_type": "code",
   "execution_count": 71,
   "metadata": {},
   "outputs": [
    {
     "name": "stdout",
     "output_type": "stream",
     "text": [
      "count           500.000000\n",
      "mean              5.214523\n",
      "std               4.251507\n",
      "min               0.451137\n",
      "25%               2.279595\n",
      "50%               4.210953\n",
      "75%               6.731085\n",
      "max              39.380335\n",
      "95% CI Lower      0.867608\n",
      "95% CI Upper     17.097435\n",
      "Name: 7560, dtype: float64\n"
     ]
    }
   ],
   "source": [
    "# Generate summary statistics from the 30-year Monte Carlo simulation results\n",
    "# Save the results as a variable\n",
    "MC_thirty_summary_statistics = MC_thirty_year.summarize_cumulative_return()\n",
    "\n",
    "# Review the 30-year Monte Carlo summary statistics\n",
    "print(MC_thirty_summary_statistics)\n",
    "\n"
   ]
  },
  {
   "cell_type": "markdown",
   "metadata": {},
   "source": [
    "### Analyze the Retirement Portfolio Forecasts\n",
    "\n",
    "Using the current value of only the stock and bond portion of the member's portfolio and the summary statistics that you generated from the Monte Carlo simulation, answer the following question in your Jupyter notebook:\n",
    "\n",
    "-  What are the lower and upper bounds for the expected value of the portfolio with a 95% confidence interval?\n"
   ]
  },
  {
   "cell_type": "code",
   "execution_count": 72,
   "metadata": {},
   "outputs": [
    {
     "name": "stdout",
     "output_type": "stream",
     "text": [
      "The current value of the stock and bond portion of the portfolio is $ 60688.70\n"
     ]
    }
   ],
   "source": [
    "# Print the current balance of the stock and bond portion of the members portfolio\n",
    "# YOUR CODE HERE\n",
    "print(f\"The current value of the stock and bond portion of the portfolio is ${total_stocks_bonds: 0.2f}\")\n"
   ]
  },
  {
   "cell_type": "code",
   "execution_count": 73,
   "metadata": {},
   "outputs": [
    {
     "name": "stdout",
     "output_type": "stream",
     "text": [
      "Given the current value of the stock & bond portion of the portfolio at $60688.7, the cumulative return over the next 30 years is forecast to end within in the range of $52654.01 and $1037621.11.\n"
     ]
    }
   ],
   "source": [
    "# Use the lower and upper `95%` confidence intervals to calculate the range of the possible outcomes for the current stock/bond portfolio\n",
    "\n",
    "ci_lower_thirty_cumulative_return = round(MC_thirty_summary_statistics[8] * total_stocks_bonds,2)\n",
    "ci_upper_thirty_cumulative_return = round(MC_thirty_summary_statistics[9] * total_stocks_bonds,2)\n",
    "\n",
    "# Print the result of your calculations\n",
    "print(f\"Given the current value of the stock & bond portion of the portfolio at ${total_stocks_bonds},\"\n",
    "      f\" the cumulative return over the next 30 years is forecast to end within in the range of\"\n",
    "      f\" ${ci_lower_thirty_cumulative_return} and ${ci_upper_thirty_cumulative_return}.\")\n"
   ]
  },
  {
   "cell_type": "markdown",
   "metadata": {},
   "source": [
    "### Forecast Cumulative Returns in 10 Years\n",
    "\n",
    "The CTO of the credit union is impressed with your work on these planning tools but wonders if 30 years is a long time to wait until retirement. So, your next task is to adjust the retirement portfolio and run a new Monte Carlo simulation to find out if the changes will allow members to retire earlier.\n",
    "\n",
    "For this new Monte Carlo simulation, do the following: \n",
    "\n",
    "- Forecast the cumulative returns for 10 years from now. Because of the shortened investment horizon (30 years to 10 years), the portfolio needs to invest more heavily in the riskier asset&mdash;that is, stock&mdash;to help accumulate wealth for retirement. \n",
    "\n",
    "- Adjust the weights of the retirement portfolio so that the composition for the Monte Carlo simulation consists of 20% bonds and 80% stocks. \n",
    "\n",
    "- Run the simulation over 500 samples, and use the same data that the API call to Alpaca generated.\n",
    "\n",
    "- Based on the new Monte Carlo simulation, answer the following questions in your Jupyter notebook:\n",
    "\n",
    "    - Using the current value of only the stock and bond portion of the member's portfolio and the summary statistics that you generated from the new Monte Carlo simulation, what are the lower and upper bounds for the expected value of the portfolio (with the new weights) with a 95% confidence interval?\n",
    "\n",
    "    - Will weighting the portfolio more heavily toward stocks allow the credit union members to retire after only 10 years?\n"
   ]
  },
  {
   "cell_type": "code",
   "execution_count": 74,
   "metadata": {},
   "outputs": [
    {
     "data": {
      "text/html": [
       "<div>\n",
       "<style scoped>\n",
       "    .dataframe tbody tr th:only-of-type {\n",
       "        vertical-align: middle;\n",
       "    }\n",
       "\n",
       "    .dataframe tbody tr th {\n",
       "        vertical-align: top;\n",
       "    }\n",
       "\n",
       "    .dataframe thead tr th {\n",
       "        text-align: left;\n",
       "    }\n",
       "\n",
       "    .dataframe thead tr:last-of-type th {\n",
       "        text-align: right;\n",
       "    }\n",
       "</style>\n",
       "<table border=\"1\" class=\"dataframe\">\n",
       "  <thead>\n",
       "    <tr>\n",
       "      <th></th>\n",
       "      <th colspan=\"8\" halign=\"left\">AGG</th>\n",
       "      <th colspan=\"8\" halign=\"left\">SPY</th>\n",
       "    </tr>\n",
       "    <tr>\n",
       "      <th></th>\n",
       "      <th>open</th>\n",
       "      <th>high</th>\n",
       "      <th>low</th>\n",
       "      <th>close</th>\n",
       "      <th>volume</th>\n",
       "      <th>trade_count</th>\n",
       "      <th>vwap</th>\n",
       "      <th>daily_return</th>\n",
       "      <th>open</th>\n",
       "      <th>high</th>\n",
       "      <th>low</th>\n",
       "      <th>close</th>\n",
       "      <th>volume</th>\n",
       "      <th>trade_count</th>\n",
       "      <th>vwap</th>\n",
       "      <th>daily_return</th>\n",
       "    </tr>\n",
       "    <tr>\n",
       "      <th>timestamp</th>\n",
       "      <th></th>\n",
       "      <th></th>\n",
       "      <th></th>\n",
       "      <th></th>\n",
       "      <th></th>\n",
       "      <th></th>\n",
       "      <th></th>\n",
       "      <th></th>\n",
       "      <th></th>\n",
       "      <th></th>\n",
       "      <th></th>\n",
       "      <th></th>\n",
       "      <th></th>\n",
       "      <th></th>\n",
       "      <th></th>\n",
       "      <th></th>\n",
       "    </tr>\n",
       "  </thead>\n",
       "  <tbody>\n",
       "    <tr>\n",
       "      <th>2019-07-01 04:00:00+00:00</th>\n",
       "      <td>111.25</td>\n",
       "      <td>111.2700</td>\n",
       "      <td>111.010</td>\n",
       "      <td>111.18</td>\n",
       "      <td>4211486</td>\n",
       "      <td>17456</td>\n",
       "      <td>111.152261</td>\n",
       "      <td>NaN</td>\n",
       "      <td>296.68</td>\n",
       "      <td>296.9200</td>\n",
       "      <td>294.33</td>\n",
       "      <td>295.66</td>\n",
       "      <td>79264778</td>\n",
       "      <td>313785</td>\n",
       "      <td>295.550961</td>\n",
       "      <td>NaN</td>\n",
       "    </tr>\n",
       "    <tr>\n",
       "      <th>2019-07-02 04:00:00+00:00</th>\n",
       "      <td>111.20</td>\n",
       "      <td>111.4062</td>\n",
       "      <td>111.140</td>\n",
       "      <td>111.38</td>\n",
       "      <td>5765493</td>\n",
       "      <td>14622</td>\n",
       "      <td>111.294019</td>\n",
       "      <td>0.001799</td>\n",
       "      <td>295.59</td>\n",
       "      <td>296.4900</td>\n",
       "      <td>291.21</td>\n",
       "      <td>296.43</td>\n",
       "      <td>62924305</td>\n",
       "      <td>243679</td>\n",
       "      <td>295.690540</td>\n",
       "      <td>0.002604</td>\n",
       "    </tr>\n",
       "    <tr>\n",
       "      <th>2019-07-03 04:00:00+00:00</th>\n",
       "      <td>111.44</td>\n",
       "      <td>111.6000</td>\n",
       "      <td>111.430</td>\n",
       "      <td>111.56</td>\n",
       "      <td>1324832</td>\n",
       "      <td>6547</td>\n",
       "      <td>111.546814</td>\n",
       "      <td>0.001616</td>\n",
       "      <td>297.19</td>\n",
       "      <td>298.8200</td>\n",
       "      <td>297.02</td>\n",
       "      <td>298.80</td>\n",
       "      <td>40929346</td>\n",
       "      <td>162068</td>\n",
       "      <td>298.172623</td>\n",
       "      <td>0.007995</td>\n",
       "    </tr>\n",
       "    <tr>\n",
       "      <th>2019-07-05 04:00:00+00:00</th>\n",
       "      <td>111.21</td>\n",
       "      <td>111.2100</td>\n",
       "      <td>110.905</td>\n",
       "      <td>111.09</td>\n",
       "      <td>2461249</td>\n",
       "      <td>10168</td>\n",
       "      <td>111.056293</td>\n",
       "      <td>-0.004213</td>\n",
       "      <td>297.46</td>\n",
       "      <td>298.6400</td>\n",
       "      <td>296.01</td>\n",
       "      <td>298.46</td>\n",
       "      <td>51977326</td>\n",
       "      <td>229688</td>\n",
       "      <td>297.602081</td>\n",
       "      <td>-0.001138</td>\n",
       "    </tr>\n",
       "    <tr>\n",
       "      <th>2019-07-08 04:00:00+00:00</th>\n",
       "      <td>111.23</td>\n",
       "      <td>111.2600</td>\n",
       "      <td>111.030</td>\n",
       "      <td>111.03</td>\n",
       "      <td>3041397</td>\n",
       "      <td>14684</td>\n",
       "      <td>111.126862</td>\n",
       "      <td>-0.000540</td>\n",
       "      <td>297.01</td>\n",
       "      <td>298.2579</td>\n",
       "      <td>296.22</td>\n",
       "      <td>296.82</td>\n",
       "      <td>45961732</td>\n",
       "      <td>190736</td>\n",
       "      <td>296.885773</td>\n",
       "      <td>-0.005495</td>\n",
       "    </tr>\n",
       "  </tbody>\n",
       "</table>\n",
       "</div>"
      ],
      "text/plain": [
       "                              AGG                                      \\\n",
       "                             open      high      low   close   volume   \n",
       "timestamp                                                               \n",
       "2019-07-01 04:00:00+00:00  111.25  111.2700  111.010  111.18  4211486   \n",
       "2019-07-02 04:00:00+00:00  111.20  111.4062  111.140  111.38  5765493   \n",
       "2019-07-03 04:00:00+00:00  111.44  111.6000  111.430  111.56  1324832   \n",
       "2019-07-05 04:00:00+00:00  111.21  111.2100  110.905  111.09  2461249   \n",
       "2019-07-08 04:00:00+00:00  111.23  111.2600  111.030  111.03  3041397   \n",
       "\n",
       "                                                                   SPY  \\\n",
       "                          trade_count        vwap daily_return    open   \n",
       "timestamp                                                                \n",
       "2019-07-01 04:00:00+00:00       17456  111.152261          NaN  296.68   \n",
       "2019-07-02 04:00:00+00:00       14622  111.294019     0.001799  295.59   \n",
       "2019-07-03 04:00:00+00:00        6547  111.546814     0.001616  297.19   \n",
       "2019-07-05 04:00:00+00:00       10168  111.056293    -0.004213  297.46   \n",
       "2019-07-08 04:00:00+00:00       14684  111.126862    -0.000540  297.01   \n",
       "\n",
       "                                                                           \\\n",
       "                               high     low   close    volume trade_count   \n",
       "timestamp                                                                   \n",
       "2019-07-01 04:00:00+00:00  296.9200  294.33  295.66  79264778      313785   \n",
       "2019-07-02 04:00:00+00:00  296.4900  291.21  296.43  62924305      243679   \n",
       "2019-07-03 04:00:00+00:00  298.8200  297.02  298.80  40929346      162068   \n",
       "2019-07-05 04:00:00+00:00  298.6400  296.01  298.46  51977326      229688   \n",
       "2019-07-08 04:00:00+00:00  298.2579  296.22  296.82  45961732      190736   \n",
       "\n",
       "                                                    \n",
       "                                 vwap daily_return  \n",
       "timestamp                                           \n",
       "2019-07-01 04:00:00+00:00  295.550961          NaN  \n",
       "2019-07-02 04:00:00+00:00  295.690540     0.002604  \n",
       "2019-07-03 04:00:00+00:00  298.172623     0.007995  \n",
       "2019-07-05 04:00:00+00:00  297.602081    -0.001138  \n",
       "2019-07-08 04:00:00+00:00  296.885773    -0.005495  "
      ]
     },
     "execution_count": 74,
     "metadata": {},
     "output_type": "execute_result"
    }
   ],
   "source": [
    "# Configure a Monte Carlo simulation to forecast 10 years cumulative returns\n",
    "# The weights should be split 20% to AGG and 80% to SPY.\n",
    "# Run 500 samples.\n",
    "MC_ten_year = MCSimulation(\n",
    "    portfolio_data = portfolio_prices_ten_df,\n",
    "    weights = [.20,.80],\n",
    "    num_simulation = 500,\n",
    "    num_trading_days = 252 * 10\n",
    ")\n",
    "\n",
    "# Review the simulation input data\n",
    "MC_ten_year.portfolio_data.head()\n"
   ]
  },
  {
   "cell_type": "code",
   "execution_count": 75,
   "metadata": {},
   "outputs": [
    {
     "name": "stdout",
     "output_type": "stream",
     "text": [
      "Running Monte Carlo simulation number 0.\n",
      "Running Monte Carlo simulation number 10.\n",
      "Running Monte Carlo simulation number 20.\n",
      "Running Monte Carlo simulation number 30.\n",
      "Running Monte Carlo simulation number 40.\n",
      "Running Monte Carlo simulation number 50.\n",
      "Running Monte Carlo simulation number 60.\n",
      "Running Monte Carlo simulation number 70.\n",
      "Running Monte Carlo simulation number 80.\n",
      "Running Monte Carlo simulation number 90.\n",
      "Running Monte Carlo simulation number 100.\n"
     ]
    },
    {
     "name": "stderr",
     "output_type": "stream",
     "text": [
      "/Users/jchow/Desktop/fintech_workspace/week_five/Starter_Code 7/MCForecastTools.py:117: PerformanceWarning: DataFrame is highly fragmented.  This is usually the result of calling `frame.insert` many times, which has poor performance.  Consider joining all columns at once using pd.concat(axis=1) instead.  To get a de-fragmented frame, use `newframe = frame.copy()`\n",
      "  portfolio_cumulative_returns[n] = (1 + sim_df.fillna(0)).cumprod()\n"
     ]
    },
    {
     "name": "stdout",
     "output_type": "stream",
     "text": [
      "Running Monte Carlo simulation number 110.\n",
      "Running Monte Carlo simulation number 120.\n",
      "Running Monte Carlo simulation number 130.\n",
      "Running Monte Carlo simulation number 140.\n",
      "Running Monte Carlo simulation number 150.\n",
      "Running Monte Carlo simulation number 160.\n",
      "Running Monte Carlo simulation number 170.\n",
      "Running Monte Carlo simulation number 180.\n",
      "Running Monte Carlo simulation number 190.\n",
      "Running Monte Carlo simulation number 200.\n",
      "Running Monte Carlo simulation number 210.\n",
      "Running Monte Carlo simulation number 220.\n",
      "Running Monte Carlo simulation number 230.\n",
      "Running Monte Carlo simulation number 240.\n",
      "Running Monte Carlo simulation number 250.\n",
      "Running Monte Carlo simulation number 260.\n",
      "Running Monte Carlo simulation number 270.\n",
      "Running Monte Carlo simulation number 280.\n",
      "Running Monte Carlo simulation number 290.\n",
      "Running Monte Carlo simulation number 300.\n",
      "Running Monte Carlo simulation number 310.\n",
      "Running Monte Carlo simulation number 320.\n",
      "Running Monte Carlo simulation number 330.\n",
      "Running Monte Carlo simulation number 340.\n",
      "Running Monte Carlo simulation number 350.\n",
      "Running Monte Carlo simulation number 360.\n",
      "Running Monte Carlo simulation number 370.\n",
      "Running Monte Carlo simulation number 380.\n",
      "Running Monte Carlo simulation number 390.\n",
      "Running Monte Carlo simulation number 400.\n",
      "Running Monte Carlo simulation number 410.\n",
      "Running Monte Carlo simulation number 420.\n",
      "Running Monte Carlo simulation number 430.\n",
      "Running Monte Carlo simulation number 440.\n",
      "Running Monte Carlo simulation number 450.\n",
      "Running Monte Carlo simulation number 460.\n",
      "Running Monte Carlo simulation number 470.\n",
      "Running Monte Carlo simulation number 480.\n",
      "Running Monte Carlo simulation number 490.\n"
     ]
    },
    {
     "data": {
      "text/html": [
       "<div>\n",
       "<style scoped>\n",
       "    .dataframe tbody tr th:only-of-type {\n",
       "        vertical-align: middle;\n",
       "    }\n",
       "\n",
       "    .dataframe tbody tr th {\n",
       "        vertical-align: top;\n",
       "    }\n",
       "\n",
       "    .dataframe thead th {\n",
       "        text-align: right;\n",
       "    }\n",
       "</style>\n",
       "<table border=\"1\" class=\"dataframe\">\n",
       "  <thead>\n",
       "    <tr style=\"text-align: right;\">\n",
       "      <th></th>\n",
       "      <th>0</th>\n",
       "      <th>1</th>\n",
       "      <th>2</th>\n",
       "      <th>3</th>\n",
       "      <th>4</th>\n",
       "      <th>5</th>\n",
       "      <th>6</th>\n",
       "      <th>7</th>\n",
       "      <th>8</th>\n",
       "      <th>9</th>\n",
       "      <th>...</th>\n",
       "      <th>490</th>\n",
       "      <th>491</th>\n",
       "      <th>492</th>\n",
       "      <th>493</th>\n",
       "      <th>494</th>\n",
       "      <th>495</th>\n",
       "      <th>496</th>\n",
       "      <th>497</th>\n",
       "      <th>498</th>\n",
       "      <th>499</th>\n",
       "    </tr>\n",
       "  </thead>\n",
       "  <tbody>\n",
       "    <tr>\n",
       "      <th>0</th>\n",
       "      <td>1.000000</td>\n",
       "      <td>1.000000</td>\n",
       "      <td>1.000000</td>\n",
       "      <td>1.000000</td>\n",
       "      <td>1.000000</td>\n",
       "      <td>1.000000</td>\n",
       "      <td>1.000000</td>\n",
       "      <td>1.000000</td>\n",
       "      <td>1.000000</td>\n",
       "      <td>1.000000</td>\n",
       "      <td>...</td>\n",
       "      <td>1.000000</td>\n",
       "      <td>1.000000</td>\n",
       "      <td>1.000000</td>\n",
       "      <td>1.000000</td>\n",
       "      <td>1.000000</td>\n",
       "      <td>1.000000</td>\n",
       "      <td>1.000000</td>\n",
       "      <td>1.000000</td>\n",
       "      <td>1.000000</td>\n",
       "      <td>1.000000</td>\n",
       "    </tr>\n",
       "    <tr>\n",
       "      <th>1</th>\n",
       "      <td>1.004233</td>\n",
       "      <td>1.018151</td>\n",
       "      <td>1.001496</td>\n",
       "      <td>1.011425</td>\n",
       "      <td>1.007721</td>\n",
       "      <td>1.018223</td>\n",
       "      <td>0.994962</td>\n",
       "      <td>0.985147</td>\n",
       "      <td>0.991839</td>\n",
       "      <td>1.001358</td>\n",
       "      <td>...</td>\n",
       "      <td>0.996573</td>\n",
       "      <td>0.972638</td>\n",
       "      <td>1.022268</td>\n",
       "      <td>1.009884</td>\n",
       "      <td>0.987994</td>\n",
       "      <td>0.987869</td>\n",
       "      <td>0.995732</td>\n",
       "      <td>1.002420</td>\n",
       "      <td>0.995166</td>\n",
       "      <td>1.012542</td>\n",
       "    </tr>\n",
       "    <tr>\n",
       "      <th>2</th>\n",
       "      <td>0.987740</td>\n",
       "      <td>1.021456</td>\n",
       "      <td>1.021842</td>\n",
       "      <td>1.000144</td>\n",
       "      <td>1.009383</td>\n",
       "      <td>1.027496</td>\n",
       "      <td>1.011339</td>\n",
       "      <td>0.982126</td>\n",
       "      <td>1.000945</td>\n",
       "      <td>1.011120</td>\n",
       "      <td>...</td>\n",
       "      <td>0.991123</td>\n",
       "      <td>0.985658</td>\n",
       "      <td>1.031803</td>\n",
       "      <td>0.999823</td>\n",
       "      <td>0.986915</td>\n",
       "      <td>0.973927</td>\n",
       "      <td>0.999709</td>\n",
       "      <td>0.994823</td>\n",
       "      <td>0.996508</td>\n",
       "      <td>0.991258</td>\n",
       "    </tr>\n",
       "    <tr>\n",
       "      <th>3</th>\n",
       "      <td>0.984472</td>\n",
       "      <td>1.026873</td>\n",
       "      <td>1.027290</td>\n",
       "      <td>0.995492</td>\n",
       "      <td>1.015677</td>\n",
       "      <td>1.022497</td>\n",
       "      <td>1.036768</td>\n",
       "      <td>0.989629</td>\n",
       "      <td>0.997824</td>\n",
       "      <td>1.010567</td>\n",
       "      <td>...</td>\n",
       "      <td>0.995606</td>\n",
       "      <td>0.987130</td>\n",
       "      <td>1.025689</td>\n",
       "      <td>1.013931</td>\n",
       "      <td>0.995848</td>\n",
       "      <td>0.978142</td>\n",
       "      <td>0.987633</td>\n",
       "      <td>0.982540</td>\n",
       "      <td>1.007086</td>\n",
       "      <td>0.997304</td>\n",
       "    </tr>\n",
       "    <tr>\n",
       "      <th>4</th>\n",
       "      <td>0.966227</td>\n",
       "      <td>1.001853</td>\n",
       "      <td>1.024252</td>\n",
       "      <td>0.997843</td>\n",
       "      <td>1.018812</td>\n",
       "      <td>1.024765</td>\n",
       "      <td>1.041231</td>\n",
       "      <td>0.984230</td>\n",
       "      <td>1.005876</td>\n",
       "      <td>1.021956</td>\n",
       "      <td>...</td>\n",
       "      <td>1.001288</td>\n",
       "      <td>0.988771</td>\n",
       "      <td>1.032024</td>\n",
       "      <td>1.008962</td>\n",
       "      <td>0.989315</td>\n",
       "      <td>0.984625</td>\n",
       "      <td>0.995769</td>\n",
       "      <td>0.991138</td>\n",
       "      <td>0.996264</td>\n",
       "      <td>1.019015</td>\n",
       "    </tr>\n",
       "    <tr>\n",
       "      <th>...</th>\n",
       "      <td>...</td>\n",
       "      <td>...</td>\n",
       "      <td>...</td>\n",
       "      <td>...</td>\n",
       "      <td>...</td>\n",
       "      <td>...</td>\n",
       "      <td>...</td>\n",
       "      <td>...</td>\n",
       "      <td>...</td>\n",
       "      <td>...</td>\n",
       "      <td>...</td>\n",
       "      <td>...</td>\n",
       "      <td>...</td>\n",
       "      <td>...</td>\n",
       "      <td>...</td>\n",
       "      <td>...</td>\n",
       "      <td>...</td>\n",
       "      <td>...</td>\n",
       "      <td>...</td>\n",
       "      <td>...</td>\n",
       "      <td>...</td>\n",
       "    </tr>\n",
       "    <tr>\n",
       "      <th>2516</th>\n",
       "      <td>0.954699</td>\n",
       "      <td>2.093794</td>\n",
       "      <td>4.559051</td>\n",
       "      <td>3.932013</td>\n",
       "      <td>1.840272</td>\n",
       "      <td>0.621029</td>\n",
       "      <td>2.741433</td>\n",
       "      <td>1.530349</td>\n",
       "      <td>0.841732</td>\n",
       "      <td>2.250050</td>\n",
       "      <td>...</td>\n",
       "      <td>1.528796</td>\n",
       "      <td>1.968699</td>\n",
       "      <td>2.189869</td>\n",
       "      <td>4.295548</td>\n",
       "      <td>0.506509</td>\n",
       "      <td>0.896600</td>\n",
       "      <td>2.618420</td>\n",
       "      <td>2.325253</td>\n",
       "      <td>2.375826</td>\n",
       "      <td>1.954247</td>\n",
       "    </tr>\n",
       "    <tr>\n",
       "      <th>2517</th>\n",
       "      <td>0.952617</td>\n",
       "      <td>2.072716</td>\n",
       "      <td>4.560408</td>\n",
       "      <td>3.944496</td>\n",
       "      <td>1.841265</td>\n",
       "      <td>0.634735</td>\n",
       "      <td>2.778454</td>\n",
       "      <td>1.517359</td>\n",
       "      <td>0.838486</td>\n",
       "      <td>2.263739</td>\n",
       "      <td>...</td>\n",
       "      <td>1.544012</td>\n",
       "      <td>1.975572</td>\n",
       "      <td>2.161090</td>\n",
       "      <td>4.288844</td>\n",
       "      <td>0.505892</td>\n",
       "      <td>0.889749</td>\n",
       "      <td>2.620598</td>\n",
       "      <td>2.371024</td>\n",
       "      <td>2.335096</td>\n",
       "      <td>1.950116</td>\n",
       "    </tr>\n",
       "    <tr>\n",
       "      <th>2518</th>\n",
       "      <td>0.959356</td>\n",
       "      <td>2.102178</td>\n",
       "      <td>4.564304</td>\n",
       "      <td>3.863959</td>\n",
       "      <td>1.802383</td>\n",
       "      <td>0.631517</td>\n",
       "      <td>2.711136</td>\n",
       "      <td>1.512023</td>\n",
       "      <td>0.858589</td>\n",
       "      <td>2.251561</td>\n",
       "      <td>...</td>\n",
       "      <td>1.543665</td>\n",
       "      <td>1.989188</td>\n",
       "      <td>2.209504</td>\n",
       "      <td>4.357980</td>\n",
       "      <td>0.505525</td>\n",
       "      <td>0.888091</td>\n",
       "      <td>2.676015</td>\n",
       "      <td>2.374026</td>\n",
       "      <td>2.328564</td>\n",
       "      <td>1.989067</td>\n",
       "    </tr>\n",
       "    <tr>\n",
       "      <th>2519</th>\n",
       "      <td>0.964819</td>\n",
       "      <td>2.139603</td>\n",
       "      <td>4.515225</td>\n",
       "      <td>3.907338</td>\n",
       "      <td>1.784311</td>\n",
       "      <td>0.637876</td>\n",
       "      <td>2.697825</td>\n",
       "      <td>1.490611</td>\n",
       "      <td>0.856622</td>\n",
       "      <td>2.261608</td>\n",
       "      <td>...</td>\n",
       "      <td>1.566662</td>\n",
       "      <td>1.985213</td>\n",
       "      <td>2.240214</td>\n",
       "      <td>4.410107</td>\n",
       "      <td>0.514763</td>\n",
       "      <td>0.896760</td>\n",
       "      <td>2.706533</td>\n",
       "      <td>2.402643</td>\n",
       "      <td>2.340163</td>\n",
       "      <td>2.016413</td>\n",
       "    </tr>\n",
       "    <tr>\n",
       "      <th>2520</th>\n",
       "      <td>0.949457</td>\n",
       "      <td>2.148050</td>\n",
       "      <td>4.582945</td>\n",
       "      <td>3.949485</td>\n",
       "      <td>1.811256</td>\n",
       "      <td>0.642089</td>\n",
       "      <td>2.670332</td>\n",
       "      <td>1.477744</td>\n",
       "      <td>0.855520</td>\n",
       "      <td>2.249911</td>\n",
       "      <td>...</td>\n",
       "      <td>1.511522</td>\n",
       "      <td>1.992506</td>\n",
       "      <td>2.253766</td>\n",
       "      <td>4.375006</td>\n",
       "      <td>0.518018</td>\n",
       "      <td>0.892701</td>\n",
       "      <td>2.752538</td>\n",
       "      <td>2.415805</td>\n",
       "      <td>2.300949</td>\n",
       "      <td>2.035206</td>\n",
       "    </tr>\n",
       "  </tbody>\n",
       "</table>\n",
       "<p>2521 rows × 500 columns</p>\n",
       "</div>"
      ],
      "text/plain": [
       "           0         1         2         3         4         5         6    \\\n",
       "0     1.000000  1.000000  1.000000  1.000000  1.000000  1.000000  1.000000   \n",
       "1     1.004233  1.018151  1.001496  1.011425  1.007721  1.018223  0.994962   \n",
       "2     0.987740  1.021456  1.021842  1.000144  1.009383  1.027496  1.011339   \n",
       "3     0.984472  1.026873  1.027290  0.995492  1.015677  1.022497  1.036768   \n",
       "4     0.966227  1.001853  1.024252  0.997843  1.018812  1.024765  1.041231   \n",
       "...        ...       ...       ...       ...       ...       ...       ...   \n",
       "2516  0.954699  2.093794  4.559051  3.932013  1.840272  0.621029  2.741433   \n",
       "2517  0.952617  2.072716  4.560408  3.944496  1.841265  0.634735  2.778454   \n",
       "2518  0.959356  2.102178  4.564304  3.863959  1.802383  0.631517  2.711136   \n",
       "2519  0.964819  2.139603  4.515225  3.907338  1.784311  0.637876  2.697825   \n",
       "2520  0.949457  2.148050  4.582945  3.949485  1.811256  0.642089  2.670332   \n",
       "\n",
       "           7         8         9    ...       490       491       492  \\\n",
       "0     1.000000  1.000000  1.000000  ...  1.000000  1.000000  1.000000   \n",
       "1     0.985147  0.991839  1.001358  ...  0.996573  0.972638  1.022268   \n",
       "2     0.982126  1.000945  1.011120  ...  0.991123  0.985658  1.031803   \n",
       "3     0.989629  0.997824  1.010567  ...  0.995606  0.987130  1.025689   \n",
       "4     0.984230  1.005876  1.021956  ...  1.001288  0.988771  1.032024   \n",
       "...        ...       ...       ...  ...       ...       ...       ...   \n",
       "2516  1.530349  0.841732  2.250050  ...  1.528796  1.968699  2.189869   \n",
       "2517  1.517359  0.838486  2.263739  ...  1.544012  1.975572  2.161090   \n",
       "2518  1.512023  0.858589  2.251561  ...  1.543665  1.989188  2.209504   \n",
       "2519  1.490611  0.856622  2.261608  ...  1.566662  1.985213  2.240214   \n",
       "2520  1.477744  0.855520  2.249911  ...  1.511522  1.992506  2.253766   \n",
       "\n",
       "           493       494       495       496       497       498       499  \n",
       "0     1.000000  1.000000  1.000000  1.000000  1.000000  1.000000  1.000000  \n",
       "1     1.009884  0.987994  0.987869  0.995732  1.002420  0.995166  1.012542  \n",
       "2     0.999823  0.986915  0.973927  0.999709  0.994823  0.996508  0.991258  \n",
       "3     1.013931  0.995848  0.978142  0.987633  0.982540  1.007086  0.997304  \n",
       "4     1.008962  0.989315  0.984625  0.995769  0.991138  0.996264  1.019015  \n",
       "...        ...       ...       ...       ...       ...       ...       ...  \n",
       "2516  4.295548  0.506509  0.896600  2.618420  2.325253  2.375826  1.954247  \n",
       "2517  4.288844  0.505892  0.889749  2.620598  2.371024  2.335096  1.950116  \n",
       "2518  4.357980  0.505525  0.888091  2.676015  2.374026  2.328564  1.989067  \n",
       "2519  4.410107  0.514763  0.896760  2.706533  2.402643  2.340163  2.016413  \n",
       "2520  4.375006  0.518018  0.892701  2.752538  2.415805  2.300949  2.035206  \n",
       "\n",
       "[2521 rows x 500 columns]"
      ]
     },
     "execution_count": 75,
     "metadata": {},
     "output_type": "execute_result"
    }
   ],
   "source": [
    "# Run the Monte Carlo simulation to forecast 10 years cumulative returns\n",
    "# YOUR CODE HERE\n",
    "MC_ten_year.calc_cumulative_return()\n"
   ]
  },
  {
   "cell_type": "code",
   "execution_count": 76,
   "metadata": {},
   "outputs": [
    {
     "data": {
      "text/plain": [
       "<AxesSubplot:title={'center':'500 Simulations of Cumulative Portfolio Return Trajectories Over the Next 2520 Trading Days.'}>"
      ]
     },
     "execution_count": 76,
     "metadata": {},
     "output_type": "execute_result"
    },
    {
     "data": {
      "image/png": "[encoded data removed]",
      "text/plain": [
       "<Figure size 432x288 with 1 Axes>"
      ]
     },
     "metadata": {
      "needs_background": "light"
     },
     "output_type": "display_data"
    }
   ],
   "source": [
    "# Visualize the 10-year Monte Carlo simulation by creating an\n",
    "# overlay line plot\n",
    "MC_ten_year.plot_simulation()\n"
   ]
  },
  {
   "cell_type": "code",
   "execution_count": 77,
   "metadata": {},
   "outputs": [
    {
     "data": {
      "text/plain": [
       "<AxesSubplot:title={'center':'Distribution of Final Cumuluative Returns Across All 500 Simulations'}, ylabel='Frequency'>"
      ]
     },
     "execution_count": 77,
     "metadata": {},
     "output_type": "execute_result"
    },
    {
     "data": {
      "image/png": "[encoded data removed]",
      "text/plain": [
       "<Figure size 432x288 with 1 Axes>"
      ]
     },
     "metadata": {
      "needs_background": "light"
     },
     "output_type": "display_data"
    }
   ],
   "source": [
    "# Visualize the probability distribution of the 10-year Monte Carlo simulation \n",
    "# by plotting a histogram\n",
    "MC_ten_year.plot_distribution()\n"
   ]
  },
  {
   "cell_type": "code",
   "execution_count": 78,
   "metadata": {},
   "outputs": [
    {
     "name": "stdout",
     "output_type": "stream",
     "text": [
      "count           500.000000\n",
      "mean              2.358659\n",
      "std               1.608002\n",
      "min               0.211024\n",
      "25%               1.236066\n",
      "50%               1.942379\n",
      "75%               2.948826\n",
      "max              13.372691\n",
      "95% CI Lower      0.572706\n",
      "95% CI Upper      6.633442\n",
      "Name: 2520, dtype: float64\n"
     ]
    }
   ],
   "source": [
    "# Generate summary statistics from the 10-year Monte Carlo simulation results\n",
    "# Save the results as a variable\n",
    "MC_ten_summary_statistics = MC_ten_year.summarize_cumulative_return()\n",
    "\n",
    "\n",
    "# Review the 10-year Monte Carlo summary statistics\n",
    "print(MC_ten_summary_statistics)\n"
   ]
  },
  {
   "cell_type": "markdown",
   "metadata": {},
   "source": [
    "### Answer the following questions:"
   ]
  },
  {
   "cell_type": "markdown",
   "metadata": {},
   "source": [
    "#### Question: Using the current value of only the stock and bond portion of the member's portfolio and the summary statistics that you generated from the new Monte Carlo simulation, what are the lower and upper bounds for the expected value of the portfolio (with the new weights) with a 95% confidence interval?"
   ]
  },
  {
   "cell_type": "code",
   "execution_count": 79,
   "metadata": {},
   "outputs": [
    {
     "name": "stdout",
     "output_type": "stream",
     "text": [
      "The current value of the stock and bond portion of the portfolio is $ 60688.70\n"
     ]
    }
   ],
   "source": [
    "# Print the current balance of the stock and bond portion of the members portfolio\n",
    "print(f\"The current value of the stock and bond portion of the portfolio is ${total_stocks_bonds: 0.2f}\")\n",
    "\n"
   ]
  },
  {
   "cell_type": "code",
   "execution_count": 80,
   "metadata": {},
   "outputs": [
    {
     "name": "stdout",
     "output_type": "stream",
     "text": [
      "Given the current value of the stock & bond portion of the portfolio at $60688.7, the cumulative return over the next 10 years is forecast to end within in the range of $34756.76 and $402574.96.\n"
     ]
    }
   ],
   "source": [
    "# Use the lower and upper `95%` confidence intervals to calculate the range of the possible outcomes for the current stock/bond portfolio\n",
    "ci_lower_ten_cumulative_return = round(MC_ten_summary_statistics[8] * total_stocks_bonds,2)\n",
    "ci_upper_ten_cumulative_return = round(MC_ten_summary_statistics[9] * total_stocks_bonds,2)\n",
    "\n",
    "# Print the results of your analysis\n",
    "print(f\"Given the current value of the stock & bond portion of the portfolio at ${total_stocks_bonds},\"\n",
    "      f\" the cumulative return over the next 10 years is forecast to end within in the range of\"\n",
    "      f\" ${ci_lower_ten_cumulative_return} and ${ci_upper_ten_cumulative_return}.\")\n"
   ]
  },
  {
   "cell_type": "markdown",
   "metadata": {},
   "source": [
    "#### Question: Will weighting the portfolio more heavily to stocks allow the credit union members to retire after only 10 years?"
   ]
  },
  {
   "cell_type": "raw",
   "metadata": {},
   "source": [
    "**Answer** 10Y simulation of 80/20 yields $402574.96. It is not enough to retire comfortably after 10 years comparing to 30Y 60/40 yields $1037621.11. "
   ]
  },
  {
   "cell_type": "code",
   "execution_count": null,
   "metadata": {},
   "outputs": [],
   "source": []
  }
 ],
 "metadata": {
  "kernelspec": {
   "display_name": "Python 3 (ipykernel)",
   "language": "python",
   "name": "python3"
  },
  "language_info": {
   "codemirror_mode": {
    "name": "ipython",
    "version": 3
   },
   "file_extension": ".py",
   "mimetype": "text/x-python",
   "name": "python",
   "nbconvert_exporter": "python",
   "pygments_lexer": "ipython3",
   "version": "3.7.13"
  }
 },
 "nbformat": 4,
 "nbformat_minor": 4
}
